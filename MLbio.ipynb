{
  "nbformat": 4,
  "nbformat_minor": 0,
  "metadata": {
    "kernelspec": {
      "language": "python",
      "display_name": "Python 3",
      "name": "python3"
    },
    "language_info": {
      "pygments_lexer": "ipython3",
      "nbconvert_exporter": "python",
      "version": "3.6.4",
      "file_extension": ".py",
      "codemirror_mode": {
        "name": "ipython",
        "version": 3
      },
      "name": "python",
      "mimetype": "text/x-python"
    },
    "colab": {
      "name": "HM.ipynb",
      "provenance": [],
      "collapsed_sections": []
    }
  },
  "cells": [
    {
      "cell_type": "code",
      "metadata": {
        "id": "FCUGnLxDGsMz",
        "colab_type": "code",
        "outputId": "3c63cb07-6060-4d12-a746-8fdc79310992",
        "colab": {
          "base_uri": "https://localhost:8080/",
          "height": 153
        }
      },
      "source": [
        "!pip install matplotlib==3.1.0"
      ],
      "execution_count": 0,
      "outputs": [
        {
          "output_type": "stream",
          "text": [
            "Requirement already satisfied: matplotlib==3.1.0 in /usr/local/lib/python3.6/dist-packages (3.1.0)\n",
            "Requirement already satisfied: cycler>=0.10 in /usr/local/lib/python3.6/dist-packages (from matplotlib==3.1.0) (0.10.0)\n",
            "Requirement already satisfied: pyparsing!=2.0.4,!=2.1.2,!=2.1.6,>=2.0.1 in /usr/local/lib/python3.6/dist-packages (from matplotlib==3.1.0) (2.4.5)\n",
            "Requirement already satisfied: kiwisolver>=1.0.1 in /usr/local/lib/python3.6/dist-packages (from matplotlib==3.1.0) (1.1.0)\n",
            "Requirement already satisfied: numpy>=1.11 in /usr/local/lib/python3.6/dist-packages (from matplotlib==3.1.0) (1.17.4)\n",
            "Requirement already satisfied: python-dateutil>=2.1 in /usr/local/lib/python3.6/dist-packages (from matplotlib==3.1.0) (2.6.1)\n",
            "Requirement already satisfied: six in /usr/local/lib/python3.6/dist-packages (from cycler>=0.10->matplotlib==3.1.0) (1.12.0)\n",
            "Requirement already satisfied: setuptools in /usr/local/lib/python3.6/dist-packages (from kiwisolver>=1.0.1->matplotlib==3.1.0) (41.4.0)\n"
          ],
          "name": "stdout"
        }
      ]
    },
    {
      "cell_type": "code",
      "metadata": {
        "_uuid": "8f2839f25d086af736a60e9eeb907d3b93b6e0e5",
        "_cell_guid": "b1076dfc-b9ad-4769-8c92-a6c4dae69d19",
        "trusted": true,
        "id": "gQEXIwWxoFqY",
        "colab_type": "code",
        "colab": {}
      },
      "source": [
        "import numpy as np # linear algebra\n",
        "import pandas as pd # data processing, CSV file I/O (e.g. pd.read_csv)\n",
        "import seaborn as sns # plot graphics\n",
        "import matplotlib.pyplot as plt\n",
        "\n",
        "import os\n",
        "for dirname, _, filenames in os.walk('/kaggle/input'):\n",
        "    for filename in filenames:\n",
        "        print(os.path.join(dirname, filename))\n",
        "\n"
      ],
      "execution_count": 0,
      "outputs": []
    },
    {
      "cell_type": "code",
      "metadata": {
        "_uuid": "d629ff2d2480ee46fbb7e2d37f6b5fab8052498a",
        "_cell_guid": "79c7e3d0-c299-4dcb-8224-4455121ee9b0",
        "trusted": true,
        "id": "y3oMbwGKoFqo",
        "colab_type": "code",
        "colab": {}
      },
      "source": [
        "# Reading our files\n",
        "sample = pd.read_csv('sample_submission.csv')\n",
        "test = pd.read_csv('test.csv')\n",
        "train = pd.read_csv('train.csv')"
      ],
      "execution_count": 0,
      "outputs": []
    },
    {
      "cell_type": "code",
      "metadata": {
        "id": "1NqrlnTmG6Kj",
        "colab_type": "code",
        "outputId": "2c41e594-97af-4e90-931e-ab3b50d8bd4e",
        "colab": {
          "base_uri": "https://localhost:8080/",
          "height": 359
        }
      },
      "source": [
        "#train.info\n",
        "train.head(n=10)"
      ],
      "execution_count": 0,
      "outputs": [
        {
          "output_type": "execute_result",
          "data": {
            "text/html": [
              "<div>\n",
              "<style scoped>\n",
              "    .dataframe tbody tr th:only-of-type {\n",
              "        vertical-align: middle;\n",
              "    }\n",
              "\n",
              "    .dataframe tbody tr th {\n",
              "        vertical-align: top;\n",
              "    }\n",
              "\n",
              "    .dataframe thead th {\n",
              "        text-align: right;\n",
              "    }\n",
              "</style>\n",
              "<table border=\"1\" class=\"dataframe\">\n",
              "  <thead>\n",
              "    <tr style=\"text-align: right;\">\n",
              "      <th></th>\n",
              "      <th>id</th>\n",
              "      <th>gender</th>\n",
              "      <th>age</th>\n",
              "      <th>hypertension</th>\n",
              "      <th>heart_disease</th>\n",
              "      <th>ever_married</th>\n",
              "      <th>work_type</th>\n",
              "      <th>Residence_type</th>\n",
              "      <th>avg_glucose_level</th>\n",
              "      <th>bmi</th>\n",
              "      <th>smoking_status</th>\n",
              "      <th>stroke</th>\n",
              "    </tr>\n",
              "  </thead>\n",
              "  <tbody>\n",
              "    <tr>\n",
              "      <th>0</th>\n",
              "      <td>30669</td>\n",
              "      <td>Male</td>\n",
              "      <td>3.0</td>\n",
              "      <td>0</td>\n",
              "      <td>0</td>\n",
              "      <td>No</td>\n",
              "      <td>children</td>\n",
              "      <td>Rural</td>\n",
              "      <td>95.12</td>\n",
              "      <td>18.0</td>\n",
              "      <td>NaN</td>\n",
              "      <td>0</td>\n",
              "    </tr>\n",
              "    <tr>\n",
              "      <th>1</th>\n",
              "      <td>30468</td>\n",
              "      <td>Male</td>\n",
              "      <td>58.0</td>\n",
              "      <td>1</td>\n",
              "      <td>0</td>\n",
              "      <td>Yes</td>\n",
              "      <td>Private</td>\n",
              "      <td>Urban</td>\n",
              "      <td>87.96</td>\n",
              "      <td>39.2</td>\n",
              "      <td>never smoked</td>\n",
              "      <td>0</td>\n",
              "    </tr>\n",
              "    <tr>\n",
              "      <th>2</th>\n",
              "      <td>16523</td>\n",
              "      <td>Female</td>\n",
              "      <td>8.0</td>\n",
              "      <td>0</td>\n",
              "      <td>0</td>\n",
              "      <td>No</td>\n",
              "      <td>Private</td>\n",
              "      <td>Urban</td>\n",
              "      <td>110.89</td>\n",
              "      <td>17.6</td>\n",
              "      <td>NaN</td>\n",
              "      <td>0</td>\n",
              "    </tr>\n",
              "    <tr>\n",
              "      <th>3</th>\n",
              "      <td>56543</td>\n",
              "      <td>Female</td>\n",
              "      <td>70.0</td>\n",
              "      <td>0</td>\n",
              "      <td>0</td>\n",
              "      <td>Yes</td>\n",
              "      <td>Private</td>\n",
              "      <td>Rural</td>\n",
              "      <td>69.04</td>\n",
              "      <td>35.9</td>\n",
              "      <td>formerly smoked</td>\n",
              "      <td>0</td>\n",
              "    </tr>\n",
              "    <tr>\n",
              "      <th>4</th>\n",
              "      <td>46136</td>\n",
              "      <td>Male</td>\n",
              "      <td>14.0</td>\n",
              "      <td>0</td>\n",
              "      <td>0</td>\n",
              "      <td>No</td>\n",
              "      <td>Never_worked</td>\n",
              "      <td>Rural</td>\n",
              "      <td>161.28</td>\n",
              "      <td>19.1</td>\n",
              "      <td>NaN</td>\n",
              "      <td>0</td>\n",
              "    </tr>\n",
              "    <tr>\n",
              "      <th>5</th>\n",
              "      <td>32257</td>\n",
              "      <td>Female</td>\n",
              "      <td>47.0</td>\n",
              "      <td>0</td>\n",
              "      <td>0</td>\n",
              "      <td>Yes</td>\n",
              "      <td>Private</td>\n",
              "      <td>Urban</td>\n",
              "      <td>210.95</td>\n",
              "      <td>50.1</td>\n",
              "      <td>NaN</td>\n",
              "      <td>0</td>\n",
              "    </tr>\n",
              "    <tr>\n",
              "      <th>6</th>\n",
              "      <td>52800</td>\n",
              "      <td>Female</td>\n",
              "      <td>52.0</td>\n",
              "      <td>0</td>\n",
              "      <td>0</td>\n",
              "      <td>Yes</td>\n",
              "      <td>Private</td>\n",
              "      <td>Urban</td>\n",
              "      <td>77.59</td>\n",
              "      <td>17.7</td>\n",
              "      <td>formerly smoked</td>\n",
              "      <td>0</td>\n",
              "    </tr>\n",
              "    <tr>\n",
              "      <th>7</th>\n",
              "      <td>41413</td>\n",
              "      <td>Female</td>\n",
              "      <td>75.0</td>\n",
              "      <td>0</td>\n",
              "      <td>1</td>\n",
              "      <td>Yes</td>\n",
              "      <td>Self-employed</td>\n",
              "      <td>Rural</td>\n",
              "      <td>243.53</td>\n",
              "      <td>27.0</td>\n",
              "      <td>never smoked</td>\n",
              "      <td>0</td>\n",
              "    </tr>\n",
              "    <tr>\n",
              "      <th>8</th>\n",
              "      <td>15266</td>\n",
              "      <td>Female</td>\n",
              "      <td>32.0</td>\n",
              "      <td>0</td>\n",
              "      <td>0</td>\n",
              "      <td>Yes</td>\n",
              "      <td>Private</td>\n",
              "      <td>Rural</td>\n",
              "      <td>77.67</td>\n",
              "      <td>32.3</td>\n",
              "      <td>smokes</td>\n",
              "      <td>0</td>\n",
              "    </tr>\n",
              "    <tr>\n",
              "      <th>9</th>\n",
              "      <td>28674</td>\n",
              "      <td>Female</td>\n",
              "      <td>74.0</td>\n",
              "      <td>1</td>\n",
              "      <td>0</td>\n",
              "      <td>Yes</td>\n",
              "      <td>Self-employed</td>\n",
              "      <td>Urban</td>\n",
              "      <td>205.84</td>\n",
              "      <td>54.6</td>\n",
              "      <td>never smoked</td>\n",
              "      <td>0</td>\n",
              "    </tr>\n",
              "  </tbody>\n",
              "</table>\n",
              "</div>"
            ],
            "text/plain": [
              "      id  gender   age  ...   bmi   smoking_status stroke\n",
              "0  30669    Male   3.0  ...  18.0              NaN      0\n",
              "1  30468    Male  58.0  ...  39.2     never smoked      0\n",
              "2  16523  Female   8.0  ...  17.6              NaN      0\n",
              "3  56543  Female  70.0  ...  35.9  formerly smoked      0\n",
              "4  46136    Male  14.0  ...  19.1              NaN      0\n",
              "5  32257  Female  47.0  ...  50.1              NaN      0\n",
              "6  52800  Female  52.0  ...  17.7  formerly smoked      0\n",
              "7  41413  Female  75.0  ...  27.0     never smoked      0\n",
              "8  15266  Female  32.0  ...  32.3           smokes      0\n",
              "9  28674  Female  74.0  ...  54.6     never smoked      0\n",
              "\n",
              "[10 rows x 12 columns]"
            ]
          },
          "metadata": {
            "tags": []
          },
          "execution_count": 212
        }
      ]
    },
    {
      "cell_type": "code",
      "metadata": {
        "id": "Wbhk-XY6BN30",
        "colab_type": "code",
        "outputId": "fcbfcd48-f921-478e-81ae-b0a482d5076d",
        "colab": {
          "base_uri": "https://localhost:8080/",
          "height": 359
        }
      },
      "source": [
        "#test.info\n",
        "test.head(n=10)"
      ],
      "execution_count": 0,
      "outputs": [
        {
          "output_type": "execute_result",
          "data": {
            "text/html": [
              "<div>\n",
              "<style scoped>\n",
              "    .dataframe tbody tr th:only-of-type {\n",
              "        vertical-align: middle;\n",
              "    }\n",
              "\n",
              "    .dataframe tbody tr th {\n",
              "        vertical-align: top;\n",
              "    }\n",
              "\n",
              "    .dataframe thead th {\n",
              "        text-align: right;\n",
              "    }\n",
              "</style>\n",
              "<table border=\"1\" class=\"dataframe\">\n",
              "  <thead>\n",
              "    <tr style=\"text-align: right;\">\n",
              "      <th></th>\n",
              "      <th>id</th>\n",
              "      <th>gender</th>\n",
              "      <th>age</th>\n",
              "      <th>hypertension</th>\n",
              "      <th>heart_disease</th>\n",
              "      <th>ever_married</th>\n",
              "      <th>work_type</th>\n",
              "      <th>Residence_type</th>\n",
              "      <th>avg_glucose_level</th>\n",
              "      <th>bmi</th>\n",
              "      <th>smoking_status</th>\n",
              "    </tr>\n",
              "  </thead>\n",
              "  <tbody>\n",
              "    <tr>\n",
              "      <th>0</th>\n",
              "      <td>37061</td>\n",
              "      <td>Male</td>\n",
              "      <td>19.0</td>\n",
              "      <td>0</td>\n",
              "      <td>0</td>\n",
              "      <td>No</td>\n",
              "      <td>Private</td>\n",
              "      <td>Rural</td>\n",
              "      <td>92.61</td>\n",
              "      <td>16.8</td>\n",
              "      <td>never smoked</td>\n",
              "    </tr>\n",
              "    <tr>\n",
              "      <th>1</th>\n",
              "      <td>42333</td>\n",
              "      <td>Male</td>\n",
              "      <td>53.0</td>\n",
              "      <td>0</td>\n",
              "      <td>0</td>\n",
              "      <td>Yes</td>\n",
              "      <td>Govt_job</td>\n",
              "      <td>Urban</td>\n",
              "      <td>94.03</td>\n",
              "      <td>26.5</td>\n",
              "      <td>NaN</td>\n",
              "    </tr>\n",
              "    <tr>\n",
              "      <th>2</th>\n",
              "      <td>58964</td>\n",
              "      <td>Female</td>\n",
              "      <td>51.0</td>\n",
              "      <td>0</td>\n",
              "      <td>0</td>\n",
              "      <td>Yes</td>\n",
              "      <td>Private</td>\n",
              "      <td>Rural</td>\n",
              "      <td>127.22</td>\n",
              "      <td>31.0</td>\n",
              "      <td>smokes</td>\n",
              "    </tr>\n",
              "    <tr>\n",
              "      <th>3</th>\n",
              "      <td>34063</td>\n",
              "      <td>Female</td>\n",
              "      <td>17.0</td>\n",
              "      <td>0</td>\n",
              "      <td>0</td>\n",
              "      <td>No</td>\n",
              "      <td>Private</td>\n",
              "      <td>Rural</td>\n",
              "      <td>112.15</td>\n",
              "      <td>19.8</td>\n",
              "      <td>NaN</td>\n",
              "    </tr>\n",
              "    <tr>\n",
              "      <th>4</th>\n",
              "      <td>43682</td>\n",
              "      <td>Female</td>\n",
              "      <td>41.0</td>\n",
              "      <td>0</td>\n",
              "      <td>0</td>\n",
              "      <td>Yes</td>\n",
              "      <td>Govt_job</td>\n",
              "      <td>Urban</td>\n",
              "      <td>112.17</td>\n",
              "      <td>27.5</td>\n",
              "      <td>never smoked</td>\n",
              "    </tr>\n",
              "    <tr>\n",
              "      <th>5</th>\n",
              "      <td>9789</td>\n",
              "      <td>Female</td>\n",
              "      <td>23.0</td>\n",
              "      <td>0</td>\n",
              "      <td>0</td>\n",
              "      <td>No</td>\n",
              "      <td>Private</td>\n",
              "      <td>Urban</td>\n",
              "      <td>86.54</td>\n",
              "      <td>28.1</td>\n",
              "      <td>smokes</td>\n",
              "    </tr>\n",
              "    <tr>\n",
              "      <th>6</th>\n",
              "      <td>6626</td>\n",
              "      <td>Female</td>\n",
              "      <td>21.0</td>\n",
              "      <td>0</td>\n",
              "      <td>0</td>\n",
              "      <td>Yes</td>\n",
              "      <td>Private</td>\n",
              "      <td>Urban</td>\n",
              "      <td>91.70</td>\n",
              "      <td>29.2</td>\n",
              "      <td>never smoked</td>\n",
              "    </tr>\n",
              "    <tr>\n",
              "      <th>7</th>\n",
              "      <td>12566</td>\n",
              "      <td>Female</td>\n",
              "      <td>42.0</td>\n",
              "      <td>0</td>\n",
              "      <td>0</td>\n",
              "      <td>Yes</td>\n",
              "      <td>Private</td>\n",
              "      <td>Urban</td>\n",
              "      <td>98.36</td>\n",
              "      <td>41.5</td>\n",
              "      <td>never smoked</td>\n",
              "    </tr>\n",
              "    <tr>\n",
              "      <th>8</th>\n",
              "      <td>27269</td>\n",
              "      <td>Female</td>\n",
              "      <td>37.0</td>\n",
              "      <td>0</td>\n",
              "      <td>0</td>\n",
              "      <td>Yes</td>\n",
              "      <td>Govt_job</td>\n",
              "      <td>Urban</td>\n",
              "      <td>94.59</td>\n",
              "      <td>30.0</td>\n",
              "      <td>NaN</td>\n",
              "    </tr>\n",
              "    <tr>\n",
              "      <th>9</th>\n",
              "      <td>47282</td>\n",
              "      <td>Female</td>\n",
              "      <td>19.0</td>\n",
              "      <td>0</td>\n",
              "      <td>0</td>\n",
              "      <td>No</td>\n",
              "      <td>Private</td>\n",
              "      <td>Rural</td>\n",
              "      <td>141.94</td>\n",
              "      <td>27.0</td>\n",
              "      <td>NaN</td>\n",
              "    </tr>\n",
              "  </tbody>\n",
              "</table>\n",
              "</div>"
            ],
            "text/plain": [
              "      id  gender   age  ...  avg_glucose_level   bmi smoking_status\n",
              "0  37061    Male  19.0  ...              92.61  16.8   never smoked\n",
              "1  42333    Male  53.0  ...              94.03  26.5            NaN\n",
              "2  58964  Female  51.0  ...             127.22  31.0         smokes\n",
              "3  34063  Female  17.0  ...             112.15  19.8            NaN\n",
              "4  43682  Female  41.0  ...             112.17  27.5   never smoked\n",
              "5   9789  Female  23.0  ...              86.54  28.1         smokes\n",
              "6   6626  Female  21.0  ...              91.70  29.2   never smoked\n",
              "7  12566  Female  42.0  ...              98.36  41.5   never smoked\n",
              "8  27269  Female  37.0  ...              94.59  30.0            NaN\n",
              "9  47282  Female  19.0  ...             141.94  27.0            NaN\n",
              "\n",
              "[10 rows x 11 columns]"
            ]
          },
          "metadata": {
            "tags": []
          },
          "execution_count": 213
        }
      ]
    },
    {
      "cell_type": "code",
      "metadata": {
        "id": "5WUtjYfIFeTB",
        "colab_type": "code",
        "outputId": "2716de3f-3ab7-4c33-fb2d-4ce8fcd1c5c2",
        "colab": {
          "base_uri": "https://localhost:8080/",
          "height": 634
        }
      },
      "source": [
        "#We can see that the numerical variables weakly correlate. And we can conclude almost all variables will used further\n",
        "corrmat = train.corr()\n",
        "f, ax = plt.subplots(figsize=(12, 9))\n",
        "sns.heatmap(corrmat, annot=True, square=True);"
      ],
      "execution_count": 0,
      "outputs": [
        {
          "output_type": "display_data",
          "data": {
            "image/png": "[encoded data removed]",
            "text/plain": [
              "<Figure size 864x648 with 2 Axes>"
            ]
          },
          "metadata": {
            "tags": []
          }
        }
      ]
    },
    {
      "cell_type": "code",
      "metadata": {
        "id": "2v4W26cmBPeS",
        "colab_type": "code",
        "outputId": "3ef31a13-c590-41ee-ee9d-7ab4b6b66289",
        "colab": {
          "base_uri": "https://localhost:8080/",
          "height": 68
        }
      },
      "source": [
        "# Just observe the data in files\n",
        "train['stroke'].value_counts()"
      ],
      "execution_count": 0,
      "outputs": [
        {
          "output_type": "execute_result",
          "data": {
            "text/plain": [
              "0    29471\n",
              "1      530\n",
              "Name: stroke, dtype: int64"
            ]
          },
          "metadata": {
            "tags": []
          },
          "execution_count": 216
        }
      ]
    },
    {
      "cell_type": "code",
      "metadata": {
        "id": "thd8P4qrK2pp",
        "colab_type": "code",
        "outputId": "5f55cf00-1d44-4c39-d6db-9a8405edb333",
        "colab": {
          "base_uri": "https://localhost:8080/",
          "height": 506
        }
      },
      "source": [
        "# The destribution of ages between people with and without stroke\n",
        "# Just look at the dependence. We can see that elder people have stoke frequently that young people \n",
        "sns.distplot(train.loc[train['stroke']==1]['age'], label='with stroke')\n",
        "sns.distplot(train.loc[train['stroke']==0]['age'], label='without stroke')\n",
        "plt.legend()\n",
        "sns.FacetGrid(train, col='stroke').map(plt.hist, 'age', bins=20)\n"
      ],
      "execution_count": 0,
      "outputs": [
        {
          "output_type": "execute_result",
          "data": {
            "text/plain": [
              "<seaborn.axisgrid.FacetGrid at 0x7efe0e694048>"
            ]
          },
          "metadata": {
            "tags": []
          },
          "execution_count": 218
        },
        {
          "output_type": "display_data",
          "data": {
            "image/png": "[encoded data removed]",
            "text/plain": [
              "<Figure size 432x288 with 1 Axes>"
            ]
          },
          "metadata": {
            "tags": []
          }
        },
        {
          "output_type": "display_data",
          "data": {
            "image/png": "[encoded data removed]",
            "text/plain": [
              "<Figure size 432x216 with 2 Axes>"
            ]
          },
          "metadata": {
            "tags": []
          }
        }
      ]
    },
    {
      "cell_type": "code",
      "metadata": {
        "id": "kzkGV544N3Ob",
        "colab_type": "code",
        "outputId": "e93b66e7-9e59-4b41-bf16-7214be5528c4",
        "colab": {
          "base_uri": "https://localhost:8080/",
          "height": 302
        }
      },
      "source": [
        "# The destribution of avg_glucose_level between people with and without stroke\n",
        "sns.distplot(train.loc[train['stroke']==1]['avg_glucose_level'], label='with stroke')\n",
        "sns.distplot(train.loc[train['stroke']==0]['avg_glucose_level'], label='without stroke')\n",
        "plt.legend()"
      ],
      "execution_count": 0,
      "outputs": [
        {
          "output_type": "execute_result",
          "data": {
            "text/plain": [
              "<matplotlib.legend.Legend at 0x7efe0e637e10>"
            ]
          },
          "metadata": {
            "tags": []
          },
          "execution_count": 219
        },
        {
          "output_type": "display_data",
          "data": {
            "image/png": "[encoded data removed]",
            "text/plain": [
              "<Figure size 432x288 with 1 Axes>"
            ]
          },
          "metadata": {
            "tags": []
          }
        }
      ]
    },
    {
      "cell_type": "code",
      "metadata": {
        "id": "w5g2X5vHOItD",
        "colab_type": "code",
        "outputId": "9f786a4a-9f72-4978-90fe-5a617d23484e",
        "colab": {
          "base_uri": "https://localhost:8080/",
          "height": 302
        }
      },
      "source": [
        "# The distribution of gender and having stroke\n",
        "sns.countplot(y=train['stroke'], hue=train['gender'])"
      ],
      "execution_count": 0,
      "outputs": [
        {
          "output_type": "execute_result",
          "data": {
            "text/plain": [
              "<matplotlib.axes._subplots.AxesSubplot at 0x7efe0ef0fe48>"
            ]
          },
          "metadata": {
            "tags": []
          },
          "execution_count": 220
        },
        {
          "output_type": "display_data",
          "data": {
            "image/png": "[encoded data removed]",
            "text/plain": [
              "<Figure size 432x288 with 1 Axes>"
            ]
          },
          "metadata": {
            "tags": []
          }
        }
      ]
    },
    {
      "cell_type": "code",
      "metadata": {
        "trusted": true,
        "id": "MqnHgvamoFrD",
        "colab_type": "code",
        "outputId": "7078b83e-83aa-44ab-a87d-88ee88e5f999",
        "colab": {
          "base_uri": "https://localhost:8080/",
          "height": 297
        }
      },
      "source": [
        "# some statistics of train data with stroke=1\n",
        "# we can observe and compare the mean values of columns with 1 and 0 in stroke\n",
        "# maybe it will hepl us to choose features\n",
        "train.loc[train['stroke']==1].describe()"
      ],
      "execution_count": 0,
      "outputs": [
        {
          "output_type": "execute_result",
          "data": {
            "text/html": [
              "<div>\n",
              "<style scoped>\n",
              "    .dataframe tbody tr th:only-of-type {\n",
              "        vertical-align: middle;\n",
              "    }\n",
              "\n",
              "    .dataframe tbody tr th {\n",
              "        vertical-align: top;\n",
              "    }\n",
              "\n",
              "    .dataframe thead th {\n",
              "        text-align: right;\n",
              "    }\n",
              "</style>\n",
              "<table border=\"1\" class=\"dataframe\">\n",
              "  <thead>\n",
              "    <tr style=\"text-align: right;\">\n",
              "      <th></th>\n",
              "      <th>id</th>\n",
              "      <th>age</th>\n",
              "      <th>hypertension</th>\n",
              "      <th>heart_disease</th>\n",
              "      <th>avg_glucose_level</th>\n",
              "      <th>bmi</th>\n",
              "      <th>stroke</th>\n",
              "    </tr>\n",
              "  </thead>\n",
              "  <tbody>\n",
              "    <tr>\n",
              "      <th>count</th>\n",
              "      <td>530.000000</td>\n",
              "      <td>530.000000</td>\n",
              "      <td>530.000000</td>\n",
              "      <td>530.000000</td>\n",
              "      <td>530.000000</td>\n",
              "      <td>438.000000</td>\n",
              "      <td>530.0</td>\n",
              "    </tr>\n",
              "    <tr>\n",
              "      <th>mean</th>\n",
              "      <td>37537.015094</td>\n",
              "      <td>67.844000</td>\n",
              "      <td>0.254717</td>\n",
              "      <td>0.209434</td>\n",
              "      <td>132.794377</td>\n",
              "      <td>29.937900</td>\n",
              "      <td>1.0</td>\n",
              "    </tr>\n",
              "    <tr>\n",
              "      <th>std</th>\n",
              "      <td>20507.492017</td>\n",
              "      <td>12.578173</td>\n",
              "      <td>0.436114</td>\n",
              "      <td>0.407289</td>\n",
              "      <td>61.218296</td>\n",
              "      <td>6.346629</td>\n",
              "      <td>0.0</td>\n",
              "    </tr>\n",
              "    <tr>\n",
              "      <th>min</th>\n",
              "      <td>210.000000</td>\n",
              "      <td>1.320000</td>\n",
              "      <td>0.000000</td>\n",
              "      <td>0.000000</td>\n",
              "      <td>55.700000</td>\n",
              "      <td>14.300000</td>\n",
              "      <td>1.0</td>\n",
              "    </tr>\n",
              "    <tr>\n",
              "      <th>25%</th>\n",
              "      <td>20846.500000</td>\n",
              "      <td>59.000000</td>\n",
              "      <td>0.000000</td>\n",
              "      <td>0.000000</td>\n",
              "      <td>80.772500</td>\n",
              "      <td>25.700000</td>\n",
              "      <td>1.0</td>\n",
              "    </tr>\n",
              "    <tr>\n",
              "      <th>50%</th>\n",
              "      <td>36767.000000</td>\n",
              "      <td>71.000000</td>\n",
              "      <td>0.000000</td>\n",
              "      <td>0.000000</td>\n",
              "      <td>105.855000</td>\n",
              "      <td>29.350000</td>\n",
              "      <td>1.0</td>\n",
              "    </tr>\n",
              "    <tr>\n",
              "      <th>75%</th>\n",
              "      <td>55701.000000</td>\n",
              "      <td>78.000000</td>\n",
              "      <td>1.000000</td>\n",
              "      <td>0.000000</td>\n",
              "      <td>197.190000</td>\n",
              "      <td>33.275000</td>\n",
              "      <td>1.0</td>\n",
              "    </tr>\n",
              "    <tr>\n",
              "      <th>max</th>\n",
              "      <td>72918.000000</td>\n",
              "      <td>82.000000</td>\n",
              "      <td>1.000000</td>\n",
              "      <td>1.000000</td>\n",
              "      <td>271.740000</td>\n",
              "      <td>56.600000</td>\n",
              "      <td>1.0</td>\n",
              "    </tr>\n",
              "  </tbody>\n",
              "</table>\n",
              "</div>"
            ],
            "text/plain": [
              "                 id         age  ...         bmi  stroke\n",
              "count    530.000000  530.000000  ...  438.000000   530.0\n",
              "mean   37537.015094   67.844000  ...   29.937900     1.0\n",
              "std    20507.492017   12.578173  ...    6.346629     0.0\n",
              "min      210.000000    1.320000  ...   14.300000     1.0\n",
              "25%    20846.500000   59.000000  ...   25.700000     1.0\n",
              "50%    36767.000000   71.000000  ...   29.350000     1.0\n",
              "75%    55701.000000   78.000000  ...   33.275000     1.0\n",
              "max    72918.000000   82.000000  ...   56.600000     1.0\n",
              "\n",
              "[8 rows x 7 columns]"
            ]
          },
          "metadata": {
            "tags": []
          },
          "execution_count": 221
        }
      ]
    },
    {
      "cell_type": "code",
      "metadata": {
        "id": "HxUBJzeMoxNQ",
        "colab_type": "code",
        "outputId": "68f256d8-13c4-4f1e-a1cd-5e770284b419",
        "colab": {
          "base_uri": "https://localhost:8080/",
          "height": 297
        }
      },
      "source": [
        "# some statistics of train data with stroke=1\n",
        "train.loc[train['stroke']==0].describe()"
      ],
      "execution_count": 0,
      "outputs": [
        {
          "output_type": "execute_result",
          "data": {
            "text/html": [
              "<div>\n",
              "<style scoped>\n",
              "    .dataframe tbody tr th:only-of-type {\n",
              "        vertical-align: middle;\n",
              "    }\n",
              "\n",
              "    .dataframe tbody tr th {\n",
              "        vertical-align: top;\n",
              "    }\n",
              "\n",
              "    .dataframe thead th {\n",
              "        text-align: right;\n",
              "    }\n",
              "</style>\n",
              "<table border=\"1\" class=\"dataframe\">\n",
              "  <thead>\n",
              "    <tr style=\"text-align: right;\">\n",
              "      <th></th>\n",
              "      <th>id</th>\n",
              "      <th>age</th>\n",
              "      <th>hypertension</th>\n",
              "      <th>heart_disease</th>\n",
              "      <th>avg_glucose_level</th>\n",
              "      <th>bmi</th>\n",
              "      <th>stroke</th>\n",
              "    </tr>\n",
              "  </thead>\n",
              "  <tbody>\n",
              "    <tr>\n",
              "      <th>count</th>\n",
              "      <td>29471.000000</td>\n",
              "      <td>29471.000000</td>\n",
              "      <td>29471.000000</td>\n",
              "      <td>29471.000000</td>\n",
              "      <td>29471.000000</td>\n",
              "      <td>28546.000000</td>\n",
              "      <td>29471.0</td>\n",
              "    </tr>\n",
              "    <tr>\n",
              "      <th>mean</th>\n",
              "      <td>36359.001323</td>\n",
              "      <td>41.816523</td>\n",
              "      <td>0.091649</td>\n",
              "      <td>0.044926</td>\n",
              "      <td>104.090983</td>\n",
              "      <td>28.642146</td>\n",
              "      <td>0.0</td>\n",
              "    </tr>\n",
              "    <tr>\n",
              "      <th>std</th>\n",
              "      <td>21076.661971</td>\n",
              "      <td>22.328541</td>\n",
              "      <td>0.288535</td>\n",
              "      <td>0.207144</td>\n",
              "      <td>42.690452</td>\n",
              "      <td>7.799156</td>\n",
              "      <td>0.0</td>\n",
              "    </tr>\n",
              "    <tr>\n",
              "      <th>min</th>\n",
              "      <td>1.000000</td>\n",
              "      <td>0.080000</td>\n",
              "      <td>0.000000</td>\n",
              "      <td>0.000000</td>\n",
              "      <td>55.000000</td>\n",
              "      <td>10.100000</td>\n",
              "      <td>0.0</td>\n",
              "    </tr>\n",
              "    <tr>\n",
              "      <th>25%</th>\n",
              "      <td>17954.500000</td>\n",
              "      <td>24.000000</td>\n",
              "      <td>0.000000</td>\n",
              "      <td>0.000000</td>\n",
              "      <td>77.470000</td>\n",
              "      <td>23.200000</td>\n",
              "      <td>0.0</td>\n",
              "    </tr>\n",
              "    <tr>\n",
              "      <th>50%</th>\n",
              "      <td>36505.000000</td>\n",
              "      <td>43.000000</td>\n",
              "      <td>0.000000</td>\n",
              "      <td>0.000000</td>\n",
              "      <td>91.450000</td>\n",
              "      <td>27.800000</td>\n",
              "      <td>0.0</td>\n",
              "    </tr>\n",
              "    <tr>\n",
              "      <th>75%</th>\n",
              "      <td>54526.500000</td>\n",
              "      <td>59.000000</td>\n",
              "      <td>0.000000</td>\n",
              "      <td>0.000000</td>\n",
              "      <td>111.760000</td>\n",
              "      <td>33.000000</td>\n",
              "      <td>0.0</td>\n",
              "    </tr>\n",
              "    <tr>\n",
              "      <th>max</th>\n",
              "      <td>72943.000000</td>\n",
              "      <td>82.000000</td>\n",
              "      <td>1.000000</td>\n",
              "      <td>1.000000</td>\n",
              "      <td>281.590000</td>\n",
              "      <td>97.600000</td>\n",
              "      <td>0.0</td>\n",
              "    </tr>\n",
              "  </tbody>\n",
              "</table>\n",
              "</div>"
            ],
            "text/plain": [
              "                 id           age  ...           bmi   stroke\n",
              "count  29471.000000  29471.000000  ...  28546.000000  29471.0\n",
              "mean   36359.001323     41.816523  ...     28.642146      0.0\n",
              "std    21076.661971     22.328541  ...      7.799156      0.0\n",
              "min        1.000000      0.080000  ...     10.100000      0.0\n",
              "25%    17954.500000     24.000000  ...     23.200000      0.0\n",
              "50%    36505.000000     43.000000  ...     27.800000      0.0\n",
              "75%    54526.500000     59.000000  ...     33.000000      0.0\n",
              "max    72943.000000     82.000000  ...     97.600000      0.0\n",
              "\n",
              "[8 rows x 7 columns]"
            ]
          },
          "metadata": {
            "tags": []
          },
          "execution_count": 222
        }
      ]
    },
    {
      "cell_type": "markdown",
      "metadata": {
        "id": "HsglG37l0GZ1",
        "colab_type": "text"
      },
      "source": [
        "From comparison the info from train data (with or without stroke) one sees the correlation in age, hypertension, heart_disease\n"
      ]
    },
    {
      "cell_type": "code",
      "metadata": {
        "id": "pL4LoTARu-T2",
        "colab_type": "code",
        "outputId": "bfde3be3-cb2b-41d5-ecee-d3f3191c202c",
        "colab": {
          "base_uri": "https://localhost:8080/",
          "height": 408
        }
      },
      "source": [
        "# Count the empty cells in train data an test data\n",
        "# And after fill with different methods\n",
        "for i in train.columns:\n",
        "    print(i, (pd.isnull(train[i])).sum())\n",
        "\n",
        "for i in test.columns:\n",
        "  print(i, (pd.isnull(test[i])).sum())"
      ],
      "execution_count": 0,
      "outputs": [
        {
          "output_type": "stream",
          "text": [
            "id 0\n",
            "gender 0\n",
            "age 0\n",
            "hypertension 0\n",
            "heart_disease 0\n",
            "ever_married 0\n",
            "work_type 0\n",
            "Residence_type 0\n",
            "avg_glucose_level 0\n",
            "bmi 1017\n",
            "smoking_status 9176\n",
            "stroke 0\n",
            "id 0\n",
            "gender 0\n",
            "age 0\n",
            "hypertension 0\n",
            "heart_disease 0\n",
            "ever_married 0\n",
            "work_type 0\n",
            "Residence_type 0\n",
            "avg_glucose_level 0\n",
            "bmi 445\n",
            "smoking_status 4116\n"
          ],
          "name": "stdout"
        }
      ]
    },
    {
      "cell_type": "markdown",
      "metadata": {
        "id": "uv1HmiH3xB7p",
        "colab_type": "text"
      },
      "source": [
        "# Fill empty cells \n"
      ]
    },
    {
      "cell_type": "code",
      "metadata": {
        "trusted": true,
        "id": "AXuNsiRqoFrc",
        "colab_type": "code",
        "colab": {}
      },
      "source": [
        "#fill nan cells with mean value\n",
        "mean_bmi_train = train['bmi'].mean()\n",
        "mean_bmi_test = test['bmi'].mean()\n",
        "train['bmi'] = train['bmi'].fillna(mean_bmi_train)\n",
        "test['bmi'] = test['bmi'].fillna(mean_bmi_test)"
      ],
      "execution_count": 0,
      "outputs": []
    },
    {
      "cell_type": "code",
      "metadata": {
        "id": "Oznoi7BzVu1l",
        "colab_type": "code",
        "outputId": "5a926bca-08f8-4423-de3e-31cb6e8f9aba",
        "colab": {
          "base_uri": "https://localhost:8080/",
          "height": 34
        }
      },
      "source": [
        "print(mean_bmi_train, mean_bmi_test)"
      ],
      "execution_count": 0,
      "outputs": [
        {
          "output_type": "stream",
          "text": [
            "28.66172715981227 28.477298340408908\n"
          ],
          "name": "stdout"
        }
      ]
    },
    {
      "cell_type": "code",
      "metadata": {
        "id": "RXY-Ksb2VlSF",
        "colab_type": "code",
        "outputId": "cf87d19d-c2cb-4c13-bbf9-b31342658d5a",
        "colab": {
          "base_uri": "https://localhost:8080/",
          "height": 302
        }
      },
      "source": [
        "#Once can see that the fill with the mean value in that case is bad, that's why maybe fill with zeros or we can not to observe that feature\n",
        "sns.distplot(train.loc[train['stroke']==1]['bmi'], label='with stroke')\n",
        "sns.distplot(train.loc[train['stroke']==0]['bmi'], label='without stroke')\n",
        "plt.legend()"
      ],
      "execution_count": 0,
      "outputs": [
        {
          "output_type": "execute_result",
          "data": {
            "text/plain": [
              "<matplotlib.legend.Legend at 0x7efe0e4ab978>"
            ]
          },
          "metadata": {
            "tags": []
          },
          "execution_count": 226
        },
        {
          "output_type": "display_data",
          "data": {
            "image/png": "[encoded data removed]",
            "text/plain": [
              "<Figure size 432x288 with 1 Axes>"
            ]
          },
          "metadata": {
            "tags": []
          }
        }
      ]
    },
    {
      "cell_type": "code",
      "metadata": {
        "id": "hsP1AphBWVKQ",
        "colab_type": "code",
        "colab": {}
      },
      "source": [
        "train['bmi'] = train['bmi'].replace(mean_bmi_train, 0)\n",
        "test['bmi'] = test['bmi'].replace(mean_bmi_test, 0)"
      ],
      "execution_count": 0,
      "outputs": []
    },
    {
      "cell_type": "code",
      "metadata": {
        "id": "B-JVENEpW7VV",
        "colab_type": "code",
        "outputId": "3ecd5d61-4dfc-46bd-9a34-55e3dc63d42a",
        "colab": {
          "base_uri": "https://localhost:8080/",
          "height": 302
        }
      },
      "source": [
        "#from that analysis I conclude not to include this feature \n",
        "#because it has the same distribution\n",
        "sns.distplot(train.loc[train['stroke']==1]['bmi'], label='with stroke')\n",
        "sns.distplot(train.loc[train['stroke']==0]['bmi'], label='without stroke')\n",
        "plt.legend()"
      ],
      "execution_count": 0,
      "outputs": [
        {
          "output_type": "execute_result",
          "data": {
            "text/plain": [
              "<matplotlib.legend.Legend at 0x7efe0e3de9b0>"
            ]
          },
          "metadata": {
            "tags": []
          },
          "execution_count": 228
        },
        {
          "output_type": "display_data",
          "data": {
            "image/png": "[encoded data removed]",
            "text/plain": [
              "<Figure size 432x288 with 1 Axes>"
            ]
          },
          "metadata": {
            "tags": []
          }
        }
      ]
    },
    {
      "cell_type": "code",
      "metadata": {
        "trusted": true,
        "id": "RmkGuREnoFri",
        "colab_type": "code",
        "colab": {}
      },
      "source": [
        "train['smoking_status'] = train['smoking_status'].fillna('nan')\n",
        "test['smoking_status'] = test['smoking_status'].fillna('nan')"
      ],
      "execution_count": 0,
      "outputs": []
    },
    {
      "cell_type": "markdown",
      "metadata": {
        "id": "4JcuA542QTEG",
        "colab_type": "text"
      },
      "source": [
        "# One-hot Encoding (work_type, smoking_status)"
      ]
    },
    {
      "cell_type": "code",
      "metadata": {
        "id": "TX4PVn2WQcFw",
        "colab_type": "code",
        "colab": {}
      },
      "source": [
        "from sklearn.preprocessing import LabelEncoder\n",
        "categ_cols = ['work_type', 'smoking_status']\n",
        "\n",
        "label_encoder = LabelEncoder()\n",
        "for col in categ_cols:\n",
        "    train[col] = label_encoder.fit_transform(train[col])\n",
        "    test[col] = label_encoder.transform(test[col])"
      ],
      "execution_count": 0,
      "outputs": []
    },
    {
      "cell_type": "markdown",
      "metadata": {
        "id": "U5Ovlq1uaxmM",
        "colab_type": "text"
      },
      "source": [
        "Smoking_status:\n",
        "1.   Formely_smoked = 0\n",
        "2.   nan = 1\n",
        "1.   never_smoked = 2\n",
        "1.   smokes = 3\n",
        "\n",
        "Work_type:\n",
        "\n",
        "1.   Govt_job = 0\n",
        "2.   never_worked = 1\n",
        "1.   Private = 2\n",
        "2.   self_employed = 3\n",
        "1.   children = 4\n",
        "\n",
        "\n",
        "\n",
        "\n",
        "\n",
        "\n"
      ]
    },
    {
      "cell_type": "markdown",
      "metadata": {
        "id": "ClSF5O1_0uYH",
        "colab_type": "text"
      },
      "source": [
        "# Target Encoding for gender\n"
      ]
    },
    {
      "cell_type": "code",
      "metadata": {
        "id": "g37IWKUt_KvL",
        "colab_type": "code",
        "outputId": "4bbec5d5-fb30-4a27-c4b0-d41edb2c36c9",
        "colab": {
          "base_uri": "https://localhost:8080/",
          "height": 34
        }
      },
      "source": [
        "(train.groupby(['gender'])['stroke'].agg(['mean'])).to_dict()['mean']"
      ],
      "execution_count": 0,
      "outputs": [
        {
          "output_type": "execute_result",
          "data": {
            "text/plain": [
              "{'Female': 0.01657614844987554, 'Male': 0.019244823386114496, 'Other': 0.0}"
            ]
          },
          "metadata": {
            "tags": []
          },
          "execution_count": 232
        }
      ]
    },
    {
      "cell_type": "code",
      "metadata": {
        "id": "Q9fx-alb_JAO",
        "colab_type": "code",
        "colab": {}
      },
      "source": [
        "gender_dict = (train.groupby(['gender'])['stroke'].agg(['mean'])).to_dict()['mean']\n",
        "\n",
        "train['gender'] = train['gender'].replace(gender_dict)\n",
        "test['gender'] = test['gender'].replace(gender_dict)\n"
      ],
      "execution_count": 0,
      "outputs": []
    },
    {
      "cell_type": "markdown",
      "metadata": {
        "id": "XLo22kMVT1mk",
        "colab_type": "text"
      },
      "source": [
        "# Replacing categorial labels by numerical (Ever_married; Residence_type)\n",
        "\n"
      ]
    },
    {
      "cell_type": "code",
      "metadata": {
        "id": "k3WUV583YJnJ",
        "colab_type": "code",
        "colab": {}
      },
      "source": [
        "ever_married_dict = {'Yes' : 1, 'No' : 0}\n",
        "train['ever_married'] = train['ever_married'].replace(ever_married_dict)\n",
        "test['ever_married'] = test['ever_married'].replace(ever_married_dict)"
      ],
      "execution_count": 0,
      "outputs": []
    },
    {
      "cell_type": "code",
      "metadata": {
        "trusted": true,
        "id": "CrW13yCqoFsC",
        "colab_type": "code",
        "colab": {}
      },
      "source": [
        "train['Residence_type'] = train['Residence_type'].replace({'Urban':1, 'Rural':0 })\n",
        "test['Residence_type'] = test['Residence_type'].replace({'Urban':1, 'Rural':0 })"
      ],
      "execution_count": 0,
      "outputs": []
    },
    {
      "cell_type": "code",
      "metadata": {
        "id": "tp9prZ3APcad",
        "colab_type": "code",
        "outputId": "49302f88-14aa-4b2d-b01b-3ef92eb7416d",
        "colab": {
          "base_uri": "https://localhost:8080/",
          "height": 634
        }
      },
      "source": [
        "#Check how the correlation matrix changes after our feature engineering\n",
        "#we see that age and ever_married is correlated which is logic\n",
        "\n",
        "corrmat = train.corr()\n",
        "f, ax = plt.subplots(figsize=(12, 9))\n",
        "sns.heatmap(corrmat, annot=True, square=True);"
      ],
      "execution_count": 0,
      "outputs": [
        {
          "output_type": "display_data",
          "data": {
            "image/png": "[encoded data removed]",
            "text/plain": [
              "<Figure size 864x648 with 2 Axes>"
            ]
          },
          "metadata": {
            "tags": []
          }
        }
      ]
    },
    {
      "cell_type": "markdown",
      "metadata": {
        "id": "bA1W6sMkCyg4",
        "colab_type": "text"
      },
      "source": [
        "Check the data after feature engineering"
      ]
    },
    {
      "cell_type": "code",
      "metadata": {
        "id": "VSSVOAM1248P",
        "colab_type": "code",
        "outputId": "fb275608-5f1a-4f95-da8e-bf04a2610c6f",
        "colab": {
          "base_uri": "https://localhost:8080/",
          "height": 204
        }
      },
      "source": [
        "train.head()"
      ],
      "execution_count": 0,
      "outputs": [
        {
          "output_type": "execute_result",
          "data": {
            "text/html": [
              "<div>\n",
              "<style scoped>\n",
              "    .dataframe tbody tr th:only-of-type {\n",
              "        vertical-align: middle;\n",
              "    }\n",
              "\n",
              "    .dataframe tbody tr th {\n",
              "        vertical-align: top;\n",
              "    }\n",
              "\n",
              "    .dataframe thead th {\n",
              "        text-align: right;\n",
              "    }\n",
              "</style>\n",
              "<table border=\"1\" class=\"dataframe\">\n",
              "  <thead>\n",
              "    <tr style=\"text-align: right;\">\n",
              "      <th></th>\n",
              "      <th>id</th>\n",
              "      <th>gender</th>\n",
              "      <th>age</th>\n",
              "      <th>hypertension</th>\n",
              "      <th>heart_disease</th>\n",
              "      <th>ever_married</th>\n",
              "      <th>work_type</th>\n",
              "      <th>Residence_type</th>\n",
              "      <th>avg_glucose_level</th>\n",
              "      <th>bmi</th>\n",
              "      <th>smoking_status</th>\n",
              "      <th>stroke</th>\n",
              "    </tr>\n",
              "  </thead>\n",
              "  <tbody>\n",
              "    <tr>\n",
              "      <th>0</th>\n",
              "      <td>30669</td>\n",
              "      <td>0.019245</td>\n",
              "      <td>3.0</td>\n",
              "      <td>0</td>\n",
              "      <td>0</td>\n",
              "      <td>0</td>\n",
              "      <td>4</td>\n",
              "      <td>0</td>\n",
              "      <td>95.12</td>\n",
              "      <td>18.0</td>\n",
              "      <td>1</td>\n",
              "      <td>0</td>\n",
              "    </tr>\n",
              "    <tr>\n",
              "      <th>1</th>\n",
              "      <td>30468</td>\n",
              "      <td>0.019245</td>\n",
              "      <td>58.0</td>\n",
              "      <td>1</td>\n",
              "      <td>0</td>\n",
              "      <td>1</td>\n",
              "      <td>2</td>\n",
              "      <td>1</td>\n",
              "      <td>87.96</td>\n",
              "      <td>39.2</td>\n",
              "      <td>2</td>\n",
              "      <td>0</td>\n",
              "    </tr>\n",
              "    <tr>\n",
              "      <th>2</th>\n",
              "      <td>16523</td>\n",
              "      <td>0.016576</td>\n",
              "      <td>8.0</td>\n",
              "      <td>0</td>\n",
              "      <td>0</td>\n",
              "      <td>0</td>\n",
              "      <td>2</td>\n",
              "      <td>1</td>\n",
              "      <td>110.89</td>\n",
              "      <td>17.6</td>\n",
              "      <td>1</td>\n",
              "      <td>0</td>\n",
              "    </tr>\n",
              "    <tr>\n",
              "      <th>3</th>\n",
              "      <td>56543</td>\n",
              "      <td>0.016576</td>\n",
              "      <td>70.0</td>\n",
              "      <td>0</td>\n",
              "      <td>0</td>\n",
              "      <td>1</td>\n",
              "      <td>2</td>\n",
              "      <td>0</td>\n",
              "      <td>69.04</td>\n",
              "      <td>35.9</td>\n",
              "      <td>0</td>\n",
              "      <td>0</td>\n",
              "    </tr>\n",
              "    <tr>\n",
              "      <th>4</th>\n",
              "      <td>46136</td>\n",
              "      <td>0.019245</td>\n",
              "      <td>14.0</td>\n",
              "      <td>0</td>\n",
              "      <td>0</td>\n",
              "      <td>0</td>\n",
              "      <td>1</td>\n",
              "      <td>0</td>\n",
              "      <td>161.28</td>\n",
              "      <td>19.1</td>\n",
              "      <td>1</td>\n",
              "      <td>0</td>\n",
              "    </tr>\n",
              "  </tbody>\n",
              "</table>\n",
              "</div>"
            ],
            "text/plain": [
              "      id    gender   age  ...   bmi  smoking_status  stroke\n",
              "0  30669  0.019245   3.0  ...  18.0               1       0\n",
              "1  30468  0.019245  58.0  ...  39.2               2       0\n",
              "2  16523  0.016576   8.0  ...  17.6               1       0\n",
              "3  56543  0.016576  70.0  ...  35.9               0       0\n",
              "4  46136  0.019245  14.0  ...  19.1               1       0\n",
              "\n",
              "[5 rows x 12 columns]"
            ]
          },
          "metadata": {
            "tags": []
          },
          "execution_count": 238
        }
      ]
    },
    {
      "cell_type": "markdown",
      "metadata": {
        "id": "XkaWtAiWZJf4",
        "colab_type": "text"
      },
      "source": [
        "Lets start to build our models\n"
      ]
    },
    {
      "cell_type": "code",
      "metadata": {
        "id": "vf-kBBNN35nE",
        "colab_type": "code",
        "colab": {}
      },
      "source": [
        "from sklearn import linear_model\n",
        "from sklearn.model_selection import KFold\n",
        "from sklearn.metrics import roc_auc_score\n",
        "from sklearn import model_selection\n",
        "from sklearn.metrics import classification_report\n",
        "from sklearn.metrics import confusion_matrix\n",
        "from sklearn.metrics import accuracy_score\n",
        "\n",
        "from sklearn.linear_model import LogisticRegression\n",
        "from sklearn.tree import DecisionTreeClassifier\n",
        "from sklearn.neighbors import KNeighborsClassifier\n",
        "from sklearn.svm import SVC\n",
        "from xgboost import XGBClassifier"
      ],
      "execution_count": 0,
      "outputs": []
    },
    {
      "cell_type": "code",
      "metadata": {
        "id": "1v8lEsQWbhtu",
        "colab_type": "code",
        "colab": {}
      },
      "source": [
        "# Consider some models for our problem of classification\n",
        "models = []\n",
        "LR_model = models.append(('LR', LogisticRegression(penalty = 'l2', solver='liblinear', multi_class='ovr')))\n",
        "KNN_model = models.append(('KNN', KNeighborsClassifier(weights='uniform')))\n",
        "CART_model = models.append(('CART', DecisionTreeClassifier()))\n",
        "\n",
        "#models.append(('SVM', SVC(gamma='auto')))\n",
        "SGD_model = models.append(('SGD', linear_model.SGDClassifier(max_iter=1000,  loss='log', penalty = 'l2', random_state=2)))\n",
        "XGB_model = models.append(('XGBoost', XGBClassifier(n_estimators=50)))"
      ],
      "execution_count": 0,
      "outputs": []
    },
    {
      "cell_type": "code",
      "metadata": {
        "id": "Zrnh_nYb1YKO",
        "colab_type": "code",
        "colab": {}
      },
      "source": [
        "#models"
      ],
      "execution_count": 0,
      "outputs": []
    },
    {
      "cell_type": "code",
      "metadata": {
        "trusted": true,
        "id": "GHlEoyhSoFst",
        "colab_type": "code",
        "colab": {}
      },
      "source": [
        "# Prepared features\n",
        "features_list = ['gender','age', 'hypertension','heart_disease','ever_married','Residence_type','avg_glucose_level', 'work_type','smoking_status']\n"
      ],
      "execution_count": 0,
      "outputs": []
    },
    {
      "cell_type": "code",
      "metadata": {
        "id": "-idE9Xr8cHpa",
        "colab_type": "code",
        "colab": {}
      },
      "source": [
        "def my_cross_validation_for_roc_auc( clf, X, y ,cv=5):\n",
        "    X = np.array(X.copy())\n",
        "    y = np.array(y.copy())\n",
        "    kf = KFold(n_splits=cv)\n",
        "    kf.get_n_splits(X)\n",
        "    scores = []\n",
        "    for train_index, test_index in kf.split(X):\n",
        "        #print(\"TRAIN:\", train_index, \"TEST:\", test_index)\n",
        "        X_train, X_test = X[train_index], X[test_index]\n",
        "        y_train, y_test = y[train_index], y[test_index]\n",
        "        \n",
        "        clf.fit(X_train, y_train)\n",
        "        prediction_on_this_fold = clf.predict_proba(X_test)[:,1]\n",
        "        \n",
        "        score = roc_auc_score(y_score=prediction_on_this_fold, y_true=y_test)\n",
        "        scores.append(score)\n",
        "        \n",
        "    return scores"
      ],
      "execution_count": 0,
      "outputs": []
    },
    {
      "cell_type": "code",
      "metadata": {
        "id": "TnYwn7GsdWBT",
        "colab_type": "code",
        "outputId": "802113ac-5e28-45ef-f803-3e5a6e1d97cc",
        "colab": {
          "base_uri": "https://localhost:8080/",
          "height": 867
        }
      },
      "source": [
        "# Obtaining which features have an impact in each model\n",
        "# Feature importance\n",
        "# Than create new list features for each model\n",
        "features_scores = {}\n",
        "scores_f = []\n",
        "for name, model in models:\n",
        "  print(name)\n",
        "  for f in features_list:\n",
        "    scores = my_cross_validation_for_roc_auc(model, train[[f]] , train['stroke'])\n",
        "    print(f,  np.mean(scores))\n",
        "    features_scores[f] = np.mean(scores)"
      ],
      "execution_count": 0,
      "outputs": [
        {
          "output_type": "stream",
          "text": [
            "LR\n",
            "gender 0.4817542955444707\n",
            "age 0.8366076869311634\n",
            "hypertension 0.581615320246325\n",
            "heart_disease 0.5818777239077606\n",
            "ever_married 0.6259899654630761\n",
            "Residence_type 0.47530819779702477\n",
            "avg_glucose_level 0.6139074419876318\n",
            "work_type 0.5226175854101948\n",
            "smoking_status 0.5173253081095717\n",
            "KNN\n",
            "gender 0.5123750205813817\n",
            "age 0.5508237989437605\n",
            "hypertension 0.5165726664923618\n",
            "heart_disease 0.5\n",
            "ever_married 0.5\n",
            "Residence_type 0.5\n",
            "avg_glucose_level 0.505994919417059\n",
            "work_type 0.5114928021027225\n",
            "smoking_status 0.5408330904696299\n",
            "CART\n",
            "gender 0.5182457044555294\n",
            "age 0.8228435455404479\n",
            "hypertension 0.581615320246325\n",
            "heart_disease 0.5818777239077606\n",
            "ever_married 0.6259899654630761\n",
            "Residence_type 0.49321198951765294\n",
            "avg_glucose_level 0.49206327961442364\n",
            "work_type 0.6068049732633557\n",
            "smoking_status 0.5854061511636889\n",
            "SGD\n",
            "gender 0.5182457044555294\n",
            "age 0.8366076869311634\n",
            "hypertension 0.581615320246325\n",
            "heart_disease 0.5818777239077606\n",
            "ever_married 0.6259899654630761\n",
            "Residence_type 0.47369911920623886\n",
            "avg_glucose_level 0.6139074419876318\n",
            "work_type 0.503556649424372\n",
            "smoking_status 0.5173253081095717\n",
            "XGBoost\n",
            "gender 0.5181527344280619\n",
            "age 0.8342643015992731\n",
            "hypertension 0.581615320246325\n",
            "heart_disease 0.5818777239077606\n",
            "ever_married 0.6259899654630761\n",
            "Residence_type 0.48426009365733885\n",
            "avg_glucose_level 0.6196684479696298\n",
            "work_type 0.6091127343318308\n",
            "smoking_status 0.5854061511636889\n"
          ],
          "name": "stdout"
        }
      ]
    },
    {
      "cell_type": "code",
      "metadata": {
        "id": "EORnfhvWk-Z8",
        "colab_type": "code",
        "colab": {}
      },
      "source": [
        "# Choose the features which mean values for all models is more than 0.5 \n",
        "features_list_all = ['age', 'hypertension', 'heart_disease', 'ever_married', 'avg_glucose_level', 'work_type', 'smoking_status']\n"
      ],
      "execution_count": 0,
      "outputs": []
    },
    {
      "cell_type": "code",
      "metadata": {
        "id": "efJCEoYVnaZi",
        "colab_type": "code",
        "colab": {}
      },
      "source": [
        "# Try to obtain diff results on diff features in each model\n",
        "results=[]\n",
        "names=[]\n",
        "mean_results=[]\n",
        "std_results=[]\n",
        "for name, model in models:\n",
        "  #for f in features_list_all:\n",
        "    kfold = model_selection.KFold(n_splits=5, random_state=0)\n",
        "    cv_results = model_selection.cross_val_score(model, train[features_list_all], train['stroke'], cv=kfold, scoring='accuracy')\n",
        "    results.append(cv_results)\n",
        "    names.append(name)\n",
        "    print(\"CV_scores\", cv_results)\n",
        "    msg = \"%s: %f (%f)\" % (name, cv_results.mean(), cv_results.std())\n",
        "    mean_results.append(cv_results.mean())\n",
        "    std_results.append(cv_results.std())\n",
        "    print(msg)\n",
        "    print('\\n')\n",
        "    "
      ],
      "execution_count": 0,
      "outputs": []
    },
    {
      "cell_type": "code",
      "metadata": {
        "id": "ROHy7A6ftEms",
        "colab_type": "code",
        "outputId": "58e674e7-ed7a-4db5-af56-6abc0564e281",
        "colab": {
          "base_uri": "https://localhost:8080/",
          "height": 204
        }
      },
      "source": [
        "df=pd.DataFrame(data=results, index=names, columns=['CV1_score','CV2_score','CV3_score','CV4_score','CV5_score'])\n",
        "df['mean'] = mean_results\n",
        "df['std'] = std_results\n",
        "df"
      ],
      "execution_count": 0,
      "outputs": [
        {
          "output_type": "execute_result",
          "data": {
            "text/html": [
              "<div>\n",
              "<style scoped>\n",
              "    .dataframe tbody tr th:only-of-type {\n",
              "        vertical-align: middle;\n",
              "    }\n",
              "\n",
              "    .dataframe tbody tr th {\n",
              "        vertical-align: top;\n",
              "    }\n",
              "\n",
              "    .dataframe thead th {\n",
              "        text-align: right;\n",
              "    }\n",
              "</style>\n",
              "<table border=\"1\" class=\"dataframe\">\n",
              "  <thead>\n",
              "    <tr style=\"text-align: right;\">\n",
              "      <th></th>\n",
              "      <th>CV1_score</th>\n",
              "      <th>CV2_score</th>\n",
              "      <th>CV3_score</th>\n",
              "      <th>CV4_score</th>\n",
              "      <th>CV5_score</th>\n",
              "      <th>mean</th>\n",
              "      <th>std</th>\n",
              "    </tr>\n",
              "  </thead>\n",
              "  <tbody>\n",
              "    <tr>\n",
              "      <th>LR</th>\n",
              "      <td>0.983503</td>\n",
              "      <td>0.983167</td>\n",
              "      <td>0.984000</td>\n",
              "      <td>0.979500</td>\n",
              "      <td>0.981500</td>\n",
              "      <td>0.982334</td>\n",
              "      <td>0.001647</td>\n",
              "    </tr>\n",
              "    <tr>\n",
              "      <th>KNN</th>\n",
              "      <td>0.983003</td>\n",
              "      <td>0.983167</td>\n",
              "      <td>0.983667</td>\n",
              "      <td>0.979333</td>\n",
              "      <td>0.981000</td>\n",
              "      <td>0.982034</td>\n",
              "      <td>0.001628</td>\n",
              "    </tr>\n",
              "    <tr>\n",
              "      <th>CART</th>\n",
              "      <td>0.968005</td>\n",
              "      <td>0.966000</td>\n",
              "      <td>0.959667</td>\n",
              "      <td>0.963167</td>\n",
              "      <td>0.963000</td>\n",
              "      <td>0.963968</td>\n",
              "      <td>0.002846</td>\n",
              "    </tr>\n",
              "    <tr>\n",
              "      <th>SGD</th>\n",
              "      <td>0.979503</td>\n",
              "      <td>0.982500</td>\n",
              "      <td>0.984000</td>\n",
              "      <td>0.979500</td>\n",
              "      <td>0.951167</td>\n",
              "      <td>0.975334</td>\n",
              "      <td>0.012209</td>\n",
              "    </tr>\n",
              "    <tr>\n",
              "      <th>XGBoost</th>\n",
              "      <td>0.983503</td>\n",
              "      <td>0.983167</td>\n",
              "      <td>0.984000</td>\n",
              "      <td>0.979500</td>\n",
              "      <td>0.981500</td>\n",
              "      <td>0.982334</td>\n",
              "      <td>0.001647</td>\n",
              "    </tr>\n",
              "  </tbody>\n",
              "</table>\n",
              "</div>"
            ],
            "text/plain": [
              "         CV1_score  CV2_score  CV3_score  ...  CV5_score      mean       std\n",
              "LR        0.983503   0.983167   0.984000  ...   0.981500  0.982334  0.001647\n",
              "KNN       0.983003   0.983167   0.983667  ...   0.981000  0.982034  0.001628\n",
              "CART      0.968005   0.966000   0.959667  ...   0.963000  0.963968  0.002846\n",
              "SGD       0.979503   0.982500   0.984000  ...   0.951167  0.975334  0.012209\n",
              "XGBoost   0.983503   0.983167   0.984000  ...   0.981500  0.982334  0.001647\n",
              "\n",
              "[5 rows x 7 columns]"
            ]
          },
          "metadata": {
            "tags": []
          },
          "execution_count": 247
        }
      ]
    },
    {
      "cell_type": "markdown",
      "metadata": {
        "id": "7JEXUYyPtUi1",
        "colab_type": "text"
      },
      "source": [
        ""
      ]
    },
    {
      "cell_type": "code",
      "metadata": {
        "id": "2fvDt8s11kqP",
        "colab_type": "code",
        "outputId": "1123db36-c8c3-4d29-86c5-d5cdfa5f7aaf",
        "colab": {
          "base_uri": "https://localhost:8080/",
          "height": 136
        }
      },
      "source": [
        "# Use three models\n",
        "# LogRegression; SGDClass; XGBClass\n",
        "lr = LogisticRegression(penalty = 'l2', solver='liblinear', multi_class='ovr')\n",
        "sgd = linear_model.SGDClassifier(max_iter=1000,  loss='log', penalty = 'l2', random_state=2)\n",
        "xgb = XGBClassifier(n_estimators=50)\n",
        "# Fitting our selected models\n",
        "lr.fit(train[features_list_all], train['stroke'])\n",
        "sgd.fit(train[features_list_all], train['stroke'])\n",
        "xgb.fit(train[features_list_all], train['stroke'])"
      ],
      "execution_count": 0,
      "outputs": [
        {
          "output_type": "execute_result",
          "data": {
            "text/plain": [
              "XGBClassifier(base_score=0.5, booster='gbtree', colsample_bylevel=1,\n",
              "              colsample_bynode=1, colsample_bytree=1, gamma=0,\n",
              "              learning_rate=0.05, max_delta_step=0, max_depth=10,\n",
              "              min_child_weight=1, missing=None, n_estimators=50, n_jobs=1,\n",
              "              nthread=None, objective='binary:logistic', random_state=0,\n",
              "              reg_alpha=0, reg_lambda=1, scale_pos_weight=1, seed=None,\n",
              "              silent=None, subsample=1, verbosity=1)"
            ]
          },
          "metadata": {
            "tags": []
          },
          "execution_count": 250
        }
      ]
    },
    {
      "cell_type": "code",
      "metadata": {
        "id": "t5Y-xQPU2LvY",
        "colab_type": "code",
        "colab": {}
      },
      "source": [
        "# Predictions\n",
        "prediction_LR = lr.predict_proba(test[features_list_all])[:,1]\n",
        "prediction_SGD = sgd.predict_proba(test[features_list_all])[:,1]\n",
        "prediction_XGB = xgb.predict_proba(test[features_list_all])[:,1]"
      ],
      "execution_count": 0,
      "outputs": []
    },
    {
      "cell_type": "code",
      "metadata": {
        "id": "tC5KwSJ24xcn",
        "colab_type": "code",
        "colab": {}
      },
      "source": [
        "# Write into csv files\n",
        "sample['stroke'] = prediction_LR\n",
        "sample.to_csv('submit_LR.csv', index=None)\n",
        "sample['stroke'] = prediction_SGD\n",
        "sample.to_csv('submit_SGD.csv', index=None)\n",
        "sample['stroke'] = prediction_XGB\n",
        "sample.to_csv('submit_XGB.csv', index=None)"
      ],
      "execution_count": 0,
      "outputs": []
    },
    {
      "cell_type": "markdown",
      "metadata": {
        "id": "xOdHGBB9VZ43",
        "colab_type": "text"
      },
      "source": [
        "#Conclusion and results "
      ]
    },
    {
      "cell_type": "code",
      "metadata": {
        "id": "U3sD8wwEOvDr",
        "colab_type": "code",
        "colab": {}
      },
      "source": [
        "#Ther results obtained from Kaggle\n",
        "#SGD_SCORE = 0.85530\n",
        "#XGB_SCORE = 0.85657\n",
        "#LR_SCORE = 0.86559"
      ],
      "execution_count": 0,
      "outputs": []
    },
    {
      "cell_type": "code",
      "metadata": {
        "id": "IC9I4BFV_qtF",
        "colab_type": "code",
        "colab": {}
      },
      "source": [
        "#\n",
        "#I used three models: LogRegression; SGDClassifier; XGBClassifier. Just widespread methods for classification which are well worked in such cases\n",
        "#from the results i conlude that the best one is LogRegression\n",
        "#i used almost all features beside bmi and residence_type\n",
        "#because the distibutions of bmi depended on stroke have the same shape, and i thought that the variable'll not play a role\n",
        "#also i did the cross validation (roc_auc) on features and saw that for the models feature score is less then 0.5\n",
        "#"
      ],
      "execution_count": 0,
      "outputs": []
    }
  ]
}