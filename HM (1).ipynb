{
  "nbformat": 4,
  "nbformat_minor": 0,
  "metadata": {
    "kernelspec": {
      "language": "python",
      "display_name": "Python 3",
      "name": "python3"
    },
    "language_info": {
      "pygments_lexer": "ipython3",
      "nbconvert_exporter": "python",
      "version": "3.6.4",
      "file_extension": ".py",
      "codemirror_mode": {
        "name": "ipython",
        "version": 3
      },
      "name": "python",
      "mimetype": "text/x-python"
    },
    "colab": {
      "name": "HM.ipynb",
      "provenance": [],
      "collapsed_sections": []
    }
  },
  "cells": [
    {
      "cell_type": "code",
      "metadata": {
        "_uuid": "8f2839f25d086af736a60e9eeb907d3b93b6e0e5",
        "_cell_guid": "b1076dfc-b9ad-4769-8c92-a6c4dae69d19",
        "trusted": true,
        "id": "gQEXIwWxoFqY",
        "colab_type": "code",
        "colab": {}
      },
      "source": [
        "# This Python 3 environment comes with many helpful analytics libraries installed\n",
        "# It is defined by the kaggle/python docker image: https://github.com/kaggle/docker-python\n",
        "# For example, here's several helpful packages to load in \n",
        "\n",
        "import numpy as np # linear algebra\n",
        "import pandas as pd # data processing, CSV file I/O (e.g. pd.read_csv)\n",
        "import seaborn as sns # plot graphics\n",
        "# Input data files are available in the \"../input/\" directory.\n",
        "# For example, running this (by clicking run or pressing Shift+Enter) will list all files under the input directory\n",
        "\n",
        "import os\n",
        "for dirname, _, filenames in os.walk('/kaggle/input'):\n",
        "    for filename in filenames:\n",
        "        print(os.path.join(dirname, filename))\n",
        "\n",
        "# Any results you write to the current directory are saved as output."
      ],
      "execution_count": 0,
      "outputs": []
    },
    {
      "cell_type": "code",
      "metadata": {
        "_uuid": "d629ff2d2480ee46fbb7e2d37f6b5fab8052498a",
        "_cell_guid": "79c7e3d0-c299-4dcb-8224-4455121ee9b0",
        "trusted": true,
        "id": "y3oMbwGKoFqo",
        "colab_type": "code",
        "colab": {}
      },
      "source": [
        "sample = pd.read_csv('sample_submission.csv')\n",
        "test = pd.read_csv('test.csv')\n",
        "train = pd.read_csv('train.csv')"
      ],
      "execution_count": 0,
      "outputs": []
    },
    {
      "cell_type": "code",
      "metadata": {
        "id": "1NqrlnTmG6Kj",
        "colab_type": "code",
        "outputId": "647f94dc-9f60-4570-ca7d-e60673ed5e8d",
        "colab": {
          "base_uri": "https://localhost:8080/",
          "height": 544
        }
      },
      "source": [
        "print(train.info)\n"
      ],
      "execution_count": 0,
      "outputs": [
        {
          "output_type": "stream",
          "text": [
            "<bound method DataFrame.info of           id  gender   age  ...   bmi   smoking_status stroke\n",
            "0      30669    Male   3.0  ...  18.0              NaN      0\n",
            "1      30468    Male  58.0  ...  39.2     never smoked      0\n",
            "2      16523  Female   8.0  ...  17.6              NaN      0\n",
            "3      56543  Female  70.0  ...  35.9  formerly smoked      0\n",
            "4      46136    Male  14.0  ...  19.1              NaN      0\n",
            "...      ...     ...   ...  ...   ...              ...    ...\n",
            "29996  72228  Female  48.0  ...  34.3     never smoked      0\n",
            "29997  14747    Male  72.0  ...  34.8              NaN      0\n",
            "29998  50636  Female  20.0  ...  19.7     never smoked      0\n",
            "29999  43161  Female  27.0  ...  22.5     never smoked      0\n",
            "30000  37061    Male  19.0  ...  16.8     never smoked      0\n",
            "\n",
            "[30001 rows x 12 columns]>\n",
            "<bound method DataFrame.info of           id  gender   age  ...  avg_glucose_level   bmi   smoking_status\n",
            "0      37061    Male  19.0  ...              92.61  16.8     never smoked\n",
            "1      42333    Male  53.0  ...              94.03  26.5              NaN\n",
            "2      58964  Female  51.0  ...             127.22  31.0           smokes\n",
            "3      34063  Female  17.0  ...             112.15  19.8              NaN\n",
            "4      43682  Female  41.0  ...             112.17  27.5     never smoked\n",
            "...      ...     ...   ...  ...                ...   ...              ...\n",
            "13395  56196  Female  10.0  ...              58.64  20.4     never smoked\n",
            "13396   5450  Female  56.0  ...             213.61  55.4  formerly smoked\n",
            "13397  28375  Female  82.0  ...              91.94  28.9  formerly smoked\n",
            "13398  27973    Male  40.0  ...              99.16  33.2     never smoked\n",
            "13399  36271  Female  82.0  ...              79.48  20.6     never smoked\n",
            "\n",
            "[13400 rows x 11 columns]>\n"
          ],
          "name": "stdout"
        },
        {
          "output_type": "execute_result",
          "data": {
            "text/plain": [
              "0    29471\n",
              "1      530\n",
              "Name: stroke, dtype: int64"
            ]
          },
          "metadata": {
            "tags": []
          },
          "execution_count": 181
        }
      ]
    },
    {
      "cell_type": "code",
      "metadata": {
        "id": "Wbhk-XY6BN30",
        "colab_type": "code",
        "colab": {}
      },
      "source": [
        "print(test.info)"
      ],
      "execution_count": 0,
      "outputs": []
    },
    {
      "cell_type": "code",
      "metadata": {
        "id": "2v4W26cmBPeS",
        "colab_type": "code",
        "colab": {}
      },
      "source": [
        "train['stroke'].value_counts()"
      ],
      "execution_count": 0,
      "outputs": []
    },
    {
      "cell_type": "code",
      "metadata": {
        "id": "thd8P4qrK2pp",
        "colab_type": "code",
        "outputId": "d0cd3fba-912a-48b8-a620-c0ab54a78c82",
        "colab": {
          "base_uri": "https://localhost:8080/",
          "height": 296
        }
      },
      "source": [
        "# The destribution of ages between people with and without stroke\n",
        "\n",
        "sns.distplot(train.loc[train['stroke']==1]['age'])\n",
        "sns.distplot(train.loc[train['stroke']==0]['age'])\n"
      ],
      "execution_count": 0,
      "outputs": [
        {
          "output_type": "execute_result",
          "data": {
            "text/plain": [
              "<matplotlib.axes._subplots.AxesSubplot at 0x7fbbadfaf668>"
            ]
          },
          "metadata": {
            "tags": []
          },
          "execution_count": 182
        },
        {
          "output_type": "display_data",
          "data": {
            "image/png": "[encoded data removed]",
            "text/plain": [
              "<Figure size 432x288 with 1 Axes>"
            ]
          },
          "metadata": {
            "tags": []
          }
        }
      ]
    },
    {
      "cell_type": "code",
      "metadata": {
        "id": "kzkGV544N3Ob",
        "colab_type": "code",
        "outputId": "d561085d-3c9f-4809-a588-7dbaf594e14f",
        "colab": {
          "base_uri": "https://localhost:8080/",
          "height": 297
        }
      },
      "source": [
        "# The destribution of avg_glucose_level between people with and without stroke\n",
        "sns.distplot(train.loc[train['stroke']==1]['avg_glucose_level'])\n",
        "sns.distplot(train.loc[train['stroke']==0]['avg_glucose_level'])"
      ],
      "execution_count": 0,
      "outputs": [
        {
          "output_type": "execute_result",
          "data": {
            "text/plain": [
              "<matplotlib.axes._subplots.AxesSubplot at 0x7fbbadf81e80>"
            ]
          },
          "metadata": {
            "tags": []
          },
          "execution_count": 183
        },
        {
          "output_type": "display_data",
          "data": {
            "image/png": "[encoded data removed]",
            "text/plain": [
              "<Figure size 432x288 with 1 Axes>"
            ]
          },
          "metadata": {
            "tags": []
          }
        }
      ]
    },
    {
      "cell_type": "code",
      "metadata": {
        "id": "w5g2X5vHOItD",
        "colab_type": "code",
        "outputId": "61f17f60-5059-436a-a770-be57a6f53f89",
        "colab": {
          "base_uri": "https://localhost:8080/",
          "height": 296
        }
      },
      "source": [
        "# The distribution of gender and having stroke\n",
        "sns.countplot(y=train['stroke'], hue=train['gender'])"
      ],
      "execution_count": 0,
      "outputs": [
        {
          "output_type": "execute_result",
          "data": {
            "text/plain": [
              "<matplotlib.axes._subplots.AxesSubplot at 0x7fbbadf55b00>"
            ]
          },
          "metadata": {
            "tags": []
          },
          "execution_count": 184
        },
        {
          "output_type": "display_data",
          "data": {
            "image/png": "[encoded data removed]",
            "text/plain": [
              "<Figure size 432x288 with 1 Axes>"
            ]
          },
          "metadata": {
            "tags": []
          }
        }
      ]
    },
    {
      "cell_type": "code",
      "metadata": {
        "trusted": true,
        "id": "R533PlcroFqx",
        "colab_type": "code",
        "outputId": "ca0b54b5-e571-441d-c100-644b30029dc2",
        "colab": {
          "base_uri": "https://localhost:8080/",
          "height": 224
        }
      },
      "source": [
        "train.head()"
      ],
      "execution_count": 0,
      "outputs": [
        {
          "output_type": "execute_result",
          "data": {
            "text/html": [
              "<div>\n",
              "<style scoped>\n",
              "    .dataframe tbody tr th:only-of-type {\n",
              "        vertical-align: middle;\n",
              "    }\n",
              "\n",
              "    .dataframe tbody tr th {\n",
              "        vertical-align: top;\n",
              "    }\n",
              "\n",
              "    .dataframe thead th {\n",
              "        text-align: right;\n",
              "    }\n",
              "</style>\n",
              "<table border=\"1\" class=\"dataframe\">\n",
              "  <thead>\n",
              "    <tr style=\"text-align: right;\">\n",
              "      <th></th>\n",
              "      <th>id</th>\n",
              "      <th>gender</th>\n",
              "      <th>age</th>\n",
              "      <th>hypertension</th>\n",
              "      <th>heart_disease</th>\n",
              "      <th>ever_married</th>\n",
              "      <th>work_type</th>\n",
              "      <th>Residence_type</th>\n",
              "      <th>avg_glucose_level</th>\n",
              "      <th>bmi</th>\n",
              "      <th>smoking_status</th>\n",
              "      <th>stroke</th>\n",
              "    </tr>\n",
              "  </thead>\n",
              "  <tbody>\n",
              "    <tr>\n",
              "      <th>0</th>\n",
              "      <td>30669</td>\n",
              "      <td>Male</td>\n",
              "      <td>3.0</td>\n",
              "      <td>0</td>\n",
              "      <td>0</td>\n",
              "      <td>No</td>\n",
              "      <td>children</td>\n",
              "      <td>Rural</td>\n",
              "      <td>95.12</td>\n",
              "      <td>18.0</td>\n",
              "      <td>NaN</td>\n",
              "      <td>0</td>\n",
              "    </tr>\n",
              "    <tr>\n",
              "      <th>1</th>\n",
              "      <td>30468</td>\n",
              "      <td>Male</td>\n",
              "      <td>58.0</td>\n",
              "      <td>1</td>\n",
              "      <td>0</td>\n",
              "      <td>Yes</td>\n",
              "      <td>Private</td>\n",
              "      <td>Urban</td>\n",
              "      <td>87.96</td>\n",
              "      <td>39.2</td>\n",
              "      <td>never smoked</td>\n",
              "      <td>0</td>\n",
              "    </tr>\n",
              "    <tr>\n",
              "      <th>2</th>\n",
              "      <td>16523</td>\n",
              "      <td>Female</td>\n",
              "      <td>8.0</td>\n",
              "      <td>0</td>\n",
              "      <td>0</td>\n",
              "      <td>No</td>\n",
              "      <td>Private</td>\n",
              "      <td>Urban</td>\n",
              "      <td>110.89</td>\n",
              "      <td>17.6</td>\n",
              "      <td>NaN</td>\n",
              "      <td>0</td>\n",
              "    </tr>\n",
              "    <tr>\n",
              "      <th>3</th>\n",
              "      <td>56543</td>\n",
              "      <td>Female</td>\n",
              "      <td>70.0</td>\n",
              "      <td>0</td>\n",
              "      <td>0</td>\n",
              "      <td>Yes</td>\n",
              "      <td>Private</td>\n",
              "      <td>Rural</td>\n",
              "      <td>69.04</td>\n",
              "      <td>35.9</td>\n",
              "      <td>formerly smoked</td>\n",
              "      <td>0</td>\n",
              "    </tr>\n",
              "    <tr>\n",
              "      <th>4</th>\n",
              "      <td>46136</td>\n",
              "      <td>Male</td>\n",
              "      <td>14.0</td>\n",
              "      <td>0</td>\n",
              "      <td>0</td>\n",
              "      <td>No</td>\n",
              "      <td>Never_worked</td>\n",
              "      <td>Rural</td>\n",
              "      <td>161.28</td>\n",
              "      <td>19.1</td>\n",
              "      <td>NaN</td>\n",
              "      <td>0</td>\n",
              "    </tr>\n",
              "  </tbody>\n",
              "</table>\n",
              "</div>"
            ],
            "text/plain": [
              "      id  gender   age  ...   bmi   smoking_status stroke\n",
              "0  30669    Male   3.0  ...  18.0              NaN      0\n",
              "1  30468    Male  58.0  ...  39.2     never smoked      0\n",
              "2  16523  Female   8.0  ...  17.6              NaN      0\n",
              "3  56543  Female  70.0  ...  35.9  formerly smoked      0\n",
              "4  46136    Male  14.0  ...  19.1              NaN      0\n",
              "\n",
              "[5 rows x 12 columns]"
            ]
          },
          "metadata": {
            "tags": []
          },
          "execution_count": 185
        }
      ]
    },
    {
      "cell_type": "code",
      "metadata": {
        "trusted": true,
        "id": "MqnHgvamoFrD",
        "colab_type": "code",
        "outputId": "e6ebcc5a-0c40-40d8-b87f-5d1f9a1559fd",
        "colab": {
          "base_uri": "https://localhost:8080/",
          "height": 297
        }
      },
      "source": [
        "# some statistics of train data with stroke=1\n",
        "train.loc[train['stroke']==1].describe()"
      ],
      "execution_count": 0,
      "outputs": [
        {
          "output_type": "execute_result",
          "data": {
            "text/html": [
              "<div>\n",
              "<style scoped>\n",
              "    .dataframe tbody tr th:only-of-type {\n",
              "        vertical-align: middle;\n",
              "    }\n",
              "\n",
              "    .dataframe tbody tr th {\n",
              "        vertical-align: top;\n",
              "    }\n",
              "\n",
              "    .dataframe thead th {\n",
              "        text-align: right;\n",
              "    }\n",
              "</style>\n",
              "<table border=\"1\" class=\"dataframe\">\n",
              "  <thead>\n",
              "    <tr style=\"text-align: right;\">\n",
              "      <th></th>\n",
              "      <th>id</th>\n",
              "      <th>age</th>\n",
              "      <th>hypertension</th>\n",
              "      <th>heart_disease</th>\n",
              "      <th>avg_glucose_level</th>\n",
              "      <th>bmi</th>\n",
              "      <th>stroke</th>\n",
              "    </tr>\n",
              "  </thead>\n",
              "  <tbody>\n",
              "    <tr>\n",
              "      <th>count</th>\n",
              "      <td>530.000000</td>\n",
              "      <td>530.000000</td>\n",
              "      <td>530.000000</td>\n",
              "      <td>530.000000</td>\n",
              "      <td>530.000000</td>\n",
              "      <td>438.000000</td>\n",
              "      <td>530.0</td>\n",
              "    </tr>\n",
              "    <tr>\n",
              "      <th>mean</th>\n",
              "      <td>37537.015094</td>\n",
              "      <td>67.844000</td>\n",
              "      <td>0.254717</td>\n",
              "      <td>0.209434</td>\n",
              "      <td>132.794377</td>\n",
              "      <td>29.937900</td>\n",
              "      <td>1.0</td>\n",
              "    </tr>\n",
              "    <tr>\n",
              "      <th>std</th>\n",
              "      <td>20507.492017</td>\n",
              "      <td>12.578173</td>\n",
              "      <td>0.436114</td>\n",
              "      <td>0.407289</td>\n",
              "      <td>61.218296</td>\n",
              "      <td>6.346629</td>\n",
              "      <td>0.0</td>\n",
              "    </tr>\n",
              "    <tr>\n",
              "      <th>min</th>\n",
              "      <td>210.000000</td>\n",
              "      <td>1.320000</td>\n",
              "      <td>0.000000</td>\n",
              "      <td>0.000000</td>\n",
              "      <td>55.700000</td>\n",
              "      <td>14.300000</td>\n",
              "      <td>1.0</td>\n",
              "    </tr>\n",
              "    <tr>\n",
              "      <th>25%</th>\n",
              "      <td>20846.500000</td>\n",
              "      <td>59.000000</td>\n",
              "      <td>0.000000</td>\n",
              "      <td>0.000000</td>\n",
              "      <td>80.772500</td>\n",
              "      <td>25.700000</td>\n",
              "      <td>1.0</td>\n",
              "    </tr>\n",
              "    <tr>\n",
              "      <th>50%</th>\n",
              "      <td>36767.000000</td>\n",
              "      <td>71.000000</td>\n",
              "      <td>0.000000</td>\n",
              "      <td>0.000000</td>\n",
              "      <td>105.855000</td>\n",
              "      <td>29.350000</td>\n",
              "      <td>1.0</td>\n",
              "    </tr>\n",
              "    <tr>\n",
              "      <th>75%</th>\n",
              "      <td>55701.000000</td>\n",
              "      <td>78.000000</td>\n",
              "      <td>1.000000</td>\n",
              "      <td>0.000000</td>\n",
              "      <td>197.190000</td>\n",
              "      <td>33.275000</td>\n",
              "      <td>1.0</td>\n",
              "    </tr>\n",
              "    <tr>\n",
              "      <th>max</th>\n",
              "      <td>72918.000000</td>\n",
              "      <td>82.000000</td>\n",
              "      <td>1.000000</td>\n",
              "      <td>1.000000</td>\n",
              "      <td>271.740000</td>\n",
              "      <td>56.600000</td>\n",
              "      <td>1.0</td>\n",
              "    </tr>\n",
              "  </tbody>\n",
              "</table>\n",
              "</div>"
            ],
            "text/plain": [
              "                 id         age  ...         bmi  stroke\n",
              "count    530.000000  530.000000  ...  438.000000   530.0\n",
              "mean   37537.015094   67.844000  ...   29.937900     1.0\n",
              "std    20507.492017   12.578173  ...    6.346629     0.0\n",
              "min      210.000000    1.320000  ...   14.300000     1.0\n",
              "25%    20846.500000   59.000000  ...   25.700000     1.0\n",
              "50%    36767.000000   71.000000  ...   29.350000     1.0\n",
              "75%    55701.000000   78.000000  ...   33.275000     1.0\n",
              "max    72918.000000   82.000000  ...   56.600000     1.0\n",
              "\n",
              "[8 rows x 7 columns]"
            ]
          },
          "metadata": {
            "tags": []
          },
          "execution_count": 186
        }
      ]
    },
    {
      "cell_type": "code",
      "metadata": {
        "id": "HxUBJzeMoxNQ",
        "colab_type": "code",
        "outputId": "cec548a8-f35d-4de8-f7a0-760e09f96905",
        "colab": {
          "base_uri": "https://localhost:8080/",
          "height": 297
        }
      },
      "source": [
        "# some statistics of train data with stroke=1\n",
        "train.loc[train['stroke']==0].describe()"
      ],
      "execution_count": 0,
      "outputs": [
        {
          "output_type": "execute_result",
          "data": {
            "text/html": [
              "<div>\n",
              "<style scoped>\n",
              "    .dataframe tbody tr th:only-of-type {\n",
              "        vertical-align: middle;\n",
              "    }\n",
              "\n",
              "    .dataframe tbody tr th {\n",
              "        vertical-align: top;\n",
              "    }\n",
              "\n",
              "    .dataframe thead th {\n",
              "        text-align: right;\n",
              "    }\n",
              "</style>\n",
              "<table border=\"1\" class=\"dataframe\">\n",
              "  <thead>\n",
              "    <tr style=\"text-align: right;\">\n",
              "      <th></th>\n",
              "      <th>id</th>\n",
              "      <th>age</th>\n",
              "      <th>hypertension</th>\n",
              "      <th>heart_disease</th>\n",
              "      <th>avg_glucose_level</th>\n",
              "      <th>bmi</th>\n",
              "      <th>stroke</th>\n",
              "    </tr>\n",
              "  </thead>\n",
              "  <tbody>\n",
              "    <tr>\n",
              "      <th>count</th>\n",
              "      <td>29471.000000</td>\n",
              "      <td>29471.000000</td>\n",
              "      <td>29471.000000</td>\n",
              "      <td>29471.000000</td>\n",
              "      <td>29471.000000</td>\n",
              "      <td>28546.000000</td>\n",
              "      <td>29471.0</td>\n",
              "    </tr>\n",
              "    <tr>\n",
              "      <th>mean</th>\n",
              "      <td>36359.001323</td>\n",
              "      <td>41.816523</td>\n",
              "      <td>0.091649</td>\n",
              "      <td>0.044926</td>\n",
              "      <td>104.090983</td>\n",
              "      <td>28.642146</td>\n",
              "      <td>0.0</td>\n",
              "    </tr>\n",
              "    <tr>\n",
              "      <th>std</th>\n",
              "      <td>21076.661971</td>\n",
              "      <td>22.328541</td>\n",
              "      <td>0.288535</td>\n",
              "      <td>0.207144</td>\n",
              "      <td>42.690452</td>\n",
              "      <td>7.799156</td>\n",
              "      <td>0.0</td>\n",
              "    </tr>\n",
              "    <tr>\n",
              "      <th>min</th>\n",
              "      <td>1.000000</td>\n",
              "      <td>0.080000</td>\n",
              "      <td>0.000000</td>\n",
              "      <td>0.000000</td>\n",
              "      <td>55.000000</td>\n",
              "      <td>10.100000</td>\n",
              "      <td>0.0</td>\n",
              "    </tr>\n",
              "    <tr>\n",
              "      <th>25%</th>\n",
              "      <td>17954.500000</td>\n",
              "      <td>24.000000</td>\n",
              "      <td>0.000000</td>\n",
              "      <td>0.000000</td>\n",
              "      <td>77.470000</td>\n",
              "      <td>23.200000</td>\n",
              "      <td>0.0</td>\n",
              "    </tr>\n",
              "    <tr>\n",
              "      <th>50%</th>\n",
              "      <td>36505.000000</td>\n",
              "      <td>43.000000</td>\n",
              "      <td>0.000000</td>\n",
              "      <td>0.000000</td>\n",
              "      <td>91.450000</td>\n",
              "      <td>27.800000</td>\n",
              "      <td>0.0</td>\n",
              "    </tr>\n",
              "    <tr>\n",
              "      <th>75%</th>\n",
              "      <td>54526.500000</td>\n",
              "      <td>59.000000</td>\n",
              "      <td>0.000000</td>\n",
              "      <td>0.000000</td>\n",
              "      <td>111.760000</td>\n",
              "      <td>33.000000</td>\n",
              "      <td>0.0</td>\n",
              "    </tr>\n",
              "    <tr>\n",
              "      <th>max</th>\n",
              "      <td>72943.000000</td>\n",
              "      <td>82.000000</td>\n",
              "      <td>1.000000</td>\n",
              "      <td>1.000000</td>\n",
              "      <td>281.590000</td>\n",
              "      <td>97.600000</td>\n",
              "      <td>0.0</td>\n",
              "    </tr>\n",
              "  </tbody>\n",
              "</table>\n",
              "</div>"
            ],
            "text/plain": [
              "                 id           age  ...           bmi   stroke\n",
              "count  29471.000000  29471.000000  ...  28546.000000  29471.0\n",
              "mean   36359.001323     41.816523  ...     28.642146      0.0\n",
              "std    21076.661971     22.328541  ...      7.799156      0.0\n",
              "min        1.000000      0.080000  ...     10.100000      0.0\n",
              "25%    17954.500000     24.000000  ...     23.200000      0.0\n",
              "50%    36505.000000     43.000000  ...     27.800000      0.0\n",
              "75%    54526.500000     59.000000  ...     33.000000      0.0\n",
              "max    72943.000000     82.000000  ...     97.600000      0.0\n",
              "\n",
              "[8 rows x 7 columns]"
            ]
          },
          "metadata": {
            "tags": []
          },
          "execution_count": 187
        }
      ]
    },
    {
      "cell_type": "code",
      "metadata": {
        "trusted": true,
        "id": "ZLRy_1ZloFrT",
        "colab_type": "code",
        "outputId": "48e4cfd2-5d01-47b0-a25f-86dcda6a84dc",
        "colab": {
          "base_uri": "https://localhost:8080/",
          "height": 224
        }
      },
      "source": [
        "test.head()"
      ],
      "execution_count": 0,
      "outputs": [
        {
          "output_type": "execute_result",
          "data": {
            "text/html": [
              "<div>\n",
              "<style scoped>\n",
              "    .dataframe tbody tr th:only-of-type {\n",
              "        vertical-align: middle;\n",
              "    }\n",
              "\n",
              "    .dataframe tbody tr th {\n",
              "        vertical-align: top;\n",
              "    }\n",
              "\n",
              "    .dataframe thead th {\n",
              "        text-align: right;\n",
              "    }\n",
              "</style>\n",
              "<table border=\"1\" class=\"dataframe\">\n",
              "  <thead>\n",
              "    <tr style=\"text-align: right;\">\n",
              "      <th></th>\n",
              "      <th>id</th>\n",
              "      <th>gender</th>\n",
              "      <th>age</th>\n",
              "      <th>hypertension</th>\n",
              "      <th>heart_disease</th>\n",
              "      <th>ever_married</th>\n",
              "      <th>work_type</th>\n",
              "      <th>Residence_type</th>\n",
              "      <th>avg_glucose_level</th>\n",
              "      <th>bmi</th>\n",
              "      <th>smoking_status</th>\n",
              "    </tr>\n",
              "  </thead>\n",
              "  <tbody>\n",
              "    <tr>\n",
              "      <th>0</th>\n",
              "      <td>37061</td>\n",
              "      <td>Male</td>\n",
              "      <td>19.0</td>\n",
              "      <td>0</td>\n",
              "      <td>0</td>\n",
              "      <td>No</td>\n",
              "      <td>Private</td>\n",
              "      <td>Rural</td>\n",
              "      <td>92.61</td>\n",
              "      <td>16.8</td>\n",
              "      <td>never smoked</td>\n",
              "    </tr>\n",
              "    <tr>\n",
              "      <th>1</th>\n",
              "      <td>42333</td>\n",
              "      <td>Male</td>\n",
              "      <td>53.0</td>\n",
              "      <td>0</td>\n",
              "      <td>0</td>\n",
              "      <td>Yes</td>\n",
              "      <td>Govt_job</td>\n",
              "      <td>Urban</td>\n",
              "      <td>94.03</td>\n",
              "      <td>26.5</td>\n",
              "      <td>NaN</td>\n",
              "    </tr>\n",
              "    <tr>\n",
              "      <th>2</th>\n",
              "      <td>58964</td>\n",
              "      <td>Female</td>\n",
              "      <td>51.0</td>\n",
              "      <td>0</td>\n",
              "      <td>0</td>\n",
              "      <td>Yes</td>\n",
              "      <td>Private</td>\n",
              "      <td>Rural</td>\n",
              "      <td>127.22</td>\n",
              "      <td>31.0</td>\n",
              "      <td>smokes</td>\n",
              "    </tr>\n",
              "    <tr>\n",
              "      <th>3</th>\n",
              "      <td>34063</td>\n",
              "      <td>Female</td>\n",
              "      <td>17.0</td>\n",
              "      <td>0</td>\n",
              "      <td>0</td>\n",
              "      <td>No</td>\n",
              "      <td>Private</td>\n",
              "      <td>Rural</td>\n",
              "      <td>112.15</td>\n",
              "      <td>19.8</td>\n",
              "      <td>NaN</td>\n",
              "    </tr>\n",
              "    <tr>\n",
              "      <th>4</th>\n",
              "      <td>43682</td>\n",
              "      <td>Female</td>\n",
              "      <td>41.0</td>\n",
              "      <td>0</td>\n",
              "      <td>0</td>\n",
              "      <td>Yes</td>\n",
              "      <td>Govt_job</td>\n",
              "      <td>Urban</td>\n",
              "      <td>112.17</td>\n",
              "      <td>27.5</td>\n",
              "      <td>never smoked</td>\n",
              "    </tr>\n",
              "  </tbody>\n",
              "</table>\n",
              "</div>"
            ],
            "text/plain": [
              "      id  gender   age  ...  avg_glucose_level   bmi smoking_status\n",
              "0  37061    Male  19.0  ...              92.61  16.8   never smoked\n",
              "1  42333    Male  53.0  ...              94.03  26.5            NaN\n",
              "2  58964  Female  51.0  ...             127.22  31.0         smokes\n",
              "3  34063  Female  17.0  ...             112.15  19.8            NaN\n",
              "4  43682  Female  41.0  ...             112.17  27.5   never smoked\n",
              "\n",
              "[5 rows x 11 columns]"
            ]
          },
          "metadata": {
            "tags": []
          },
          "execution_count": 188
        }
      ]
    },
    {
      "cell_type": "code",
      "metadata": {
        "id": "pL4LoTARu-T2",
        "colab_type": "code",
        "outputId": "e62c9e33-cd19-45bd-894b-a9fdce8d9d23",
        "colab": {
          "base_uri": "https://localhost:8080/",
          "height": 408
        }
      },
      "source": [
        "# Count the empty cells in train data an test data\n",
        "# And after fill with some methods\n",
        "for i in train.columns:\n",
        "    print(i, (pd.isnull(train[i])).sum())\n",
        "\n",
        "for i in test.columns:\n",
        "  print(i, (pd.isnull(test[i])).sum())"
      ],
      "execution_count": 0,
      "outputs": [
        {
          "output_type": "stream",
          "text": [
            "id 0\n",
            "gender 0\n",
            "age 0\n",
            "hypertension 0\n",
            "heart_disease 0\n",
            "ever_married 0\n",
            "work_type 0\n",
            "Residence_type 0\n",
            "avg_glucose_level 0\n",
            "bmi 1017\n",
            "smoking_status 9176\n",
            "stroke 0\n",
            "id 0\n",
            "gender 0\n",
            "age 0\n",
            "hypertension 0\n",
            "heart_disease 0\n",
            "ever_married 0\n",
            "work_type 0\n",
            "Residence_type 0\n",
            "avg_glucose_level 0\n",
            "bmi 445\n",
            "smoking_status 4116\n"
          ],
          "name": "stdout"
        }
      ]
    },
    {
      "cell_type": "markdown",
      "metadata": {
        "id": "uv1HmiH3xB7p",
        "colab_type": "text"
      },
      "source": [
        "FILL NAN cells in BMI with mean value\n"
      ]
    },
    {
      "cell_type": "code",
      "metadata": {
        "trusted": true,
        "id": "AXuNsiRqoFrc",
        "colab_type": "code",
        "colab": {}
      },
      "source": [
        "#fill nan cells with mean value\n",
        "mean_bmi_train = train['bmi'].mean()\n",
        "mean_bmi_test = test['bmi'].mean()\n",
        "train['bmi'] = train['bmi'].fillna(mean_bmi_train)\n",
        "test['bmi'] = test['bmi'].fillna(mean_bmi_test)\n",
        "#print(mean_bmi, mean_bmi1)"
      ],
      "execution_count": 0,
      "outputs": []
    },
    {
      "cell_type": "markdown",
      "metadata": {
        "id": "sPr1gsLHxO31",
        "colab_type": "text"
      },
      "source": [
        "Fill Nan cells in SMOKING_STATUS\n"
      ]
    },
    {
      "cell_type": "code",
      "metadata": {
        "trusted": true,
        "id": "RmkGuREnoFri",
        "colab_type": "code",
        "colab": {}
      },
      "source": [
        "train['smoking_status'] = train['smoking_status'].fillna('nan')\n",
        "test['smoking_status'] = test['smoking_status'].fillna('nan')"
      ],
      "execution_count": 0,
      "outputs": []
    },
    {
      "cell_type": "code",
      "metadata": {
        "id": "hFdNSs-PxxAi",
        "colab_type": "code",
        "colab": {}
      },
      "source": [
        "ever_married_dict = {'Yes' : 1, 'No' : 0}\n",
        "train['ever_married'] = train['ever_married'].replace(ever_married_dict)\n",
        "test['ever_married'] = test['ever_married'].replace(ever_married_dict)"
      ],
      "execution_count": 0,
      "outputs": []
    },
    {
      "cell_type": "code",
      "metadata": {
        "id": "jR-6w9u7zKd3",
        "colab_type": "code",
        "colab": {}
      },
      "source": [
        "#train.drop(train.loc[train['gender']=='Other'].index, inplace=True)\n",
        "#test.drop(test.loc[test['gender']=='Other'].index, inplace=True)"
      ],
      "execution_count": 0,
      "outputs": []
    },
    {
      "cell_type": "markdown",
      "metadata": {
        "id": "ClSF5O1_0uYH",
        "colab_type": "text"
      },
      "source": [
        "\n",
        "Target Encoding, fill with mean values\n"
      ]
    },
    {
      "cell_type": "code",
      "metadata": {
        "id": "g37IWKUt_KvL",
        "colab_type": "code",
        "outputId": "b5514902-4c1c-4f72-ad88-f010f4413642",
        "colab": {
          "base_uri": "https://localhost:8080/",
          "height": 34
        }
      },
      "source": [
        "(train.groupby(['gender'])['stroke'].agg(['mean'])).to_dict()['mean']"
      ],
      "execution_count": 0,
      "outputs": [
        {
          "output_type": "execute_result",
          "data": {
            "text/plain": [
              "{'Female': 0.01657614844987554, 'Male': 0.019244823386114496, 'Other': 0.0}"
            ]
          },
          "metadata": {
            "tags": []
          },
          "execution_count": 194
        }
      ]
    },
    {
      "cell_type": "code",
      "metadata": {
        "id": "Q9fx-alb_JAO",
        "colab_type": "code",
        "colab": {}
      },
      "source": [
        "gender_dict = (train.groupby(['gender'])['stroke'].agg(['mean'])).to_dict()['mean']\n",
        "\n",
        "train['gender_enc'] = train['gender'].replace(gender_dict)\n",
        "test['gender_enc'] = test['gender'].replace(gender_dict)\n"
      ],
      "execution_count": 0,
      "outputs": []
    },
    {
      "cell_type": "code",
      "metadata": {
        "id": "eynbXkW702Go",
        "colab_type": "code",
        "outputId": "d3aaefb8-2152-4593-996c-885912722796",
        "colab": {
          "base_uri": "https://localhost:8080/",
          "height": 102
        }
      },
      "source": [
        "(train.groupby(['work_type'])['stroke'].agg(['mean'])).to_dict()"
      ],
      "execution_count": 0,
      "outputs": [
        {
          "output_type": "execute_result",
          "data": {
            "text/plain": [
              "{'mean': {'Govt_job': 0.017350157728706624,\n",
              "  'Never_worked': 0.0,\n",
              "  'Private': 0.018118466898954706,\n",
              "  'Self-employed': 0.03209242618741977,\n",
              "  'children': 0.0004775549188156638}}"
            ]
          },
          "metadata": {
            "tags": []
          },
          "execution_count": 196
        }
      ]
    },
    {
      "cell_type": "code",
      "metadata": {
        "id": "wtTMJOb31LaH",
        "colab_type": "code",
        "colab": {}
      },
      "source": [
        "work_type_dict = (train.groupby(['work_type'])['stroke'].agg(['mean'])).to_dict()['mean']"
      ],
      "execution_count": 0,
      "outputs": []
    },
    {
      "cell_type": "code",
      "metadata": {
        "id": "g5VVENTy1cH6",
        "colab_type": "code",
        "colab": {}
      },
      "source": [
        "train['work_type_enc'] = train['work_type'].replace(work_type_dict)\n",
        "test['work_type_enc'] = test['work_type'].replace(work_type_dict)"
      ],
      "execution_count": 0,
      "outputs": []
    },
    {
      "cell_type": "code",
      "metadata": {
        "trusted": true,
        "id": "6nJ1ah82oFrp",
        "colab_type": "code",
        "outputId": "b88c5a1a-c282-40c7-de31-bf2ae1934f3e",
        "colab": {
          "base_uri": "https://localhost:8080/",
          "height": 85
        }
      },
      "source": [
        "(train.groupby(['smoking_status'])['stroke'].agg(['mean'])).to_dict()"
      ],
      "execution_count": 0,
      "outputs": [
        {
          "output_type": "execute_result",
          "data": {
            "text/plain": [
              "{'mean': {'formerly smoked': 0.027783137179239824,\n",
              "  'nan': 0.011442894507410636,\n",
              "  'never smoked': 0.01723982308872642,\n",
              "  'smokes': 0.01972386587771203}}"
            ]
          },
          "metadata": {
            "tags": []
          },
          "execution_count": 199
        }
      ]
    },
    {
      "cell_type": "code",
      "metadata": {
        "id": "K7eMAnNY0zjN",
        "colab_type": "code",
        "colab": {}
      },
      "source": [
        "smoking_status_dict = (train.groupby(['smoking_status'])['stroke'].agg(['mean'])).to_dict()['mean']"
      ],
      "execution_count": 0,
      "outputs": []
    },
    {
      "cell_type": "code",
      "metadata": {
        "id": "4N5Tv6bS19MM",
        "colab_type": "code",
        "colab": {}
      },
      "source": [
        "train['smoking_status_enc'] = train['smoking_status'].replace(smoking_status_dict )\n",
        "test['smoking_status_enc'] = test['smoking_status'].replace(smoking_status_dict )"
      ],
      "execution_count": 0,
      "outputs": []
    },
    {
      "cell_type": "markdown",
      "metadata": {
        "id": "XLo22kMVT1mk",
        "colab_type": "text"
      },
      "source": [
        "Replacing categorial labels by numerical\n"
      ]
    },
    {
      "cell_type": "code",
      "metadata": {
        "trusted": true,
        "id": "CrW13yCqoFsC",
        "colab_type": "code",
        "colab": {}
      },
      "source": [
        "train['Residence_type'] = train['Residence_type'].replace({'Urban':1, 'Rural':0 })\n",
        "test['Residence_type'] = test['Residence_type'].replace({'Urban':1, 'Rural':0 })"
      ],
      "execution_count": 0,
      "outputs": []
    },
    {
      "cell_type": "code",
      "metadata": {
        "id": "0sRrj1aL2nj-",
        "colab_type": "code",
        "colab": {}
      },
      "source": [
        "train['gender'] = train['gender'].replace({'Male':1, 'Female':0})\n",
        "test['gender'] = test['gender'].replace({'Male':1, 'Female':0})"
      ],
      "execution_count": 0,
      "outputs": []
    },
    {
      "cell_type": "code",
      "metadata": {
        "id": "EKF3PBGt25GZ",
        "colab_type": "code",
        "colab": {}
      },
      "source": [
        ""
      ],
      "execution_count": 0,
      "outputs": []
    },
    {
      "cell_type": "markdown",
      "metadata": {
        "id": "bA1W6sMkCyg4",
        "colab_type": "text"
      },
      "source": [
        "Check the data after feature engineering"
      ]
    },
    {
      "cell_type": "code",
      "metadata": {
        "id": "dSr1c3sOC7bZ",
        "colab_type": "code",
        "colab": {}
      },
      "source": [
        ""
      ],
      "execution_count": 0,
      "outputs": []
    },
    {
      "cell_type": "code",
      "metadata": {
        "id": "VSSVOAM1248P",
        "colab_type": "code",
        "outputId": "747e421b-b5fd-4a7a-a93f-906e4fba8a29",
        "colab": {
          "base_uri": "https://localhost:8080/",
          "height": 224
        }
      },
      "source": [
        "train.head()"
      ],
      "execution_count": 0,
      "outputs": [
        {
          "output_type": "execute_result",
          "data": {
            "text/html": [
              "<div>\n",
              "<style scoped>\n",
              "    .dataframe tbody tr th:only-of-type {\n",
              "        vertical-align: middle;\n",
              "    }\n",
              "\n",
              "    .dataframe tbody tr th {\n",
              "        vertical-align: top;\n",
              "    }\n",
              "\n",
              "    .dataframe thead th {\n",
              "        text-align: right;\n",
              "    }\n",
              "</style>\n",
              "<table border=\"1\" class=\"dataframe\">\n",
              "  <thead>\n",
              "    <tr style=\"text-align: right;\">\n",
              "      <th></th>\n",
              "      <th>id</th>\n",
              "      <th>gender</th>\n",
              "      <th>age</th>\n",
              "      <th>hypertension</th>\n",
              "      <th>heart_disease</th>\n",
              "      <th>ever_married</th>\n",
              "      <th>work_type</th>\n",
              "      <th>Residence_type</th>\n",
              "      <th>avg_glucose_level</th>\n",
              "      <th>bmi</th>\n",
              "      <th>smoking_status</th>\n",
              "      <th>stroke</th>\n",
              "      <th>gender_enc</th>\n",
              "      <th>work_type_enc</th>\n",
              "      <th>smoking_status_enc</th>\n",
              "    </tr>\n",
              "  </thead>\n",
              "  <tbody>\n",
              "    <tr>\n",
              "      <th>0</th>\n",
              "      <td>30669</td>\n",
              "      <td>1</td>\n",
              "      <td>3.0</td>\n",
              "      <td>0</td>\n",
              "      <td>0</td>\n",
              "      <td>0</td>\n",
              "      <td>children</td>\n",
              "      <td>0</td>\n",
              "      <td>95.12</td>\n",
              "      <td>18.0</td>\n",
              "      <td>nan</td>\n",
              "      <td>0</td>\n",
              "      <td>0.019245</td>\n",
              "      <td>0.000478</td>\n",
              "      <td>0.011443</td>\n",
              "    </tr>\n",
              "    <tr>\n",
              "      <th>1</th>\n",
              "      <td>30468</td>\n",
              "      <td>1</td>\n",
              "      <td>58.0</td>\n",
              "      <td>1</td>\n",
              "      <td>0</td>\n",
              "      <td>1</td>\n",
              "      <td>Private</td>\n",
              "      <td>1</td>\n",
              "      <td>87.96</td>\n",
              "      <td>39.2</td>\n",
              "      <td>never smoked</td>\n",
              "      <td>0</td>\n",
              "      <td>0.019245</td>\n",
              "      <td>0.018118</td>\n",
              "      <td>0.017240</td>\n",
              "    </tr>\n",
              "    <tr>\n",
              "      <th>2</th>\n",
              "      <td>16523</td>\n",
              "      <td>0</td>\n",
              "      <td>8.0</td>\n",
              "      <td>0</td>\n",
              "      <td>0</td>\n",
              "      <td>0</td>\n",
              "      <td>Private</td>\n",
              "      <td>1</td>\n",
              "      <td>110.89</td>\n",
              "      <td>17.6</td>\n",
              "      <td>nan</td>\n",
              "      <td>0</td>\n",
              "      <td>0.016576</td>\n",
              "      <td>0.018118</td>\n",
              "      <td>0.011443</td>\n",
              "    </tr>\n",
              "    <tr>\n",
              "      <th>3</th>\n",
              "      <td>56543</td>\n",
              "      <td>0</td>\n",
              "      <td>70.0</td>\n",
              "      <td>0</td>\n",
              "      <td>0</td>\n",
              "      <td>1</td>\n",
              "      <td>Private</td>\n",
              "      <td>0</td>\n",
              "      <td>69.04</td>\n",
              "      <td>35.9</td>\n",
              "      <td>formerly smoked</td>\n",
              "      <td>0</td>\n",
              "      <td>0.016576</td>\n",
              "      <td>0.018118</td>\n",
              "      <td>0.027783</td>\n",
              "    </tr>\n",
              "    <tr>\n",
              "      <th>4</th>\n",
              "      <td>46136</td>\n",
              "      <td>1</td>\n",
              "      <td>14.0</td>\n",
              "      <td>0</td>\n",
              "      <td>0</td>\n",
              "      <td>0</td>\n",
              "      <td>Never_worked</td>\n",
              "      <td>0</td>\n",
              "      <td>161.28</td>\n",
              "      <td>19.1</td>\n",
              "      <td>nan</td>\n",
              "      <td>0</td>\n",
              "      <td>0.019245</td>\n",
              "      <td>0.000000</td>\n",
              "      <td>0.011443</td>\n",
              "    </tr>\n",
              "  </tbody>\n",
              "</table>\n",
              "</div>"
            ],
            "text/plain": [
              "      id gender   age  ...  gender_enc  work_type_enc  smoking_status_enc\n",
              "0  30669      1   3.0  ...    0.019245       0.000478            0.011443\n",
              "1  30468      1  58.0  ...    0.019245       0.018118            0.017240\n",
              "2  16523      0   8.0  ...    0.016576       0.018118            0.011443\n",
              "3  56543      0  70.0  ...    0.016576       0.018118            0.027783\n",
              "4  46136      1  14.0  ...    0.019245       0.000000            0.011443\n",
              "\n",
              "[5 rows x 15 columns]"
            ]
          },
          "metadata": {
            "tags": []
          },
          "execution_count": 204
        }
      ]
    },
    {
      "cell_type": "code",
      "metadata": {
        "trusted": true,
        "id": "GHlEoyhSoFst",
        "colab_type": "code",
        "colab": {}
      },
      "source": [
        "# Prepared features\n",
        "features_list = ['gender_enc', 'age', 'hypertension','heart_disease','ever_married','Residence_type','avg_glucose_level', 'bmi', 'work_type_enc','smoking_status_enc']\n"
      ],
      "execution_count": 0,
      "outputs": []
    },
    {
      "cell_type": "code",
      "metadata": {
        "id": "_BbfIb7XWq-E",
        "colab_type": "code",
        "colab": {}
      },
      "source": [
        ""
      ],
      "execution_count": 0,
      "outputs": []
    },
    {
      "cell_type": "code",
      "metadata": {
        "id": "vf-kBBNN35nE",
        "colab_type": "code",
        "colab": {}
      },
      "source": [
        "from sklearn import linear_model\n",
        "from sklearn.model_selection import KFold\n",
        "from sklearn.metrics import roc_auc_score\n",
        "from sklearn import model_selection\n",
        "from sklearn.metrics import classification_report\n",
        "from sklearn.metrics import confusion_matrix\n",
        "from sklearn.metrics import accuracy_score\n",
        "\n",
        "from sklearn.linear_model import LogisticRegression\n",
        "from sklearn.tree import DecisionTreeClassifier\n",
        "from sklearn.neighbors import KNeighborsClassifier\n",
        "from sklearn.svm import SVC\n",
        "from xgboost import XGBClassifier"
      ],
      "execution_count": 0,
      "outputs": []
    },
    {
      "cell_type": "code",
      "metadata": {
        "id": "1v8lEsQWbhtu",
        "colab_type": "code",
        "colab": {}
      },
      "source": [
        "# Consider some models for our problem of classification\n",
        "models = []\n",
        "LR_model = models.append(('LR', LogisticRegression(penalty = 'l2', solver='liblinear', multi_class='ovr')))\n",
        "KNN_model = models.append(('KNN', KNeighborsClassifier(weights='uniform')))\n",
        "CART_model = models.append(('CART', DecisionTreeClassifier()))\n",
        "\n",
        "#models.append(('SVM', SVC(gamma='auto')))\n",
        "SGD_model = models.append(('SGD', linear_model.SGDClassifier(max_iter=1000,  loss='log', penalty = 'l2', random_state=2)))\n",
        "XGB_model = models.append(('XGBoost', XGBClassifier()))"
      ],
      "execution_count": 0,
      "outputs": []
    },
    {
      "cell_type": "code",
      "metadata": {
        "id": "2hgqwllnqGzZ",
        "colab_type": "code",
        "outputId": "67df27a9-91fa-4bf2-8129-0f26864034a5",
        "colab": {
          "base_uri": "https://localhost:8080/",
          "height": 544
        }
      },
      "source": [
        "models"
      ],
      "execution_count": 0,
      "outputs": [
        {
          "output_type": "execute_result",
          "data": {
            "text/plain": [
              "[('LR',\n",
              "  LogisticRegression(C=1.0, class_weight=None, dual=False, fit_intercept=True,\n",
              "                     intercept_scaling=1, l1_ratio=None, max_iter=100,\n",
              "                     multi_class='ovr', n_jobs=None, penalty='l2',\n",
              "                     random_state=None, solver='liblinear', tol=0.0001, verbose=0,\n",
              "                     warm_start=False)),\n",
              " ('KNN',\n",
              "  KNeighborsClassifier(algorithm='auto', leaf_size=30, metric='minkowski',\n",
              "                       metric_params=None, n_jobs=None, n_neighbors=5, p=2,\n",
              "                       weights='uniform')),\n",
              " ('CART',\n",
              "  DecisionTreeClassifier(class_weight=None, criterion='gini', max_depth=None,\n",
              "                         max_features=None, max_leaf_nodes=None,\n",
              "                         min_impurity_decrease=0.0, min_impurity_split=None,\n",
              "                         min_samples_leaf=1, min_samples_split=2,\n",
              "                         min_weight_fraction_leaf=0.0, presort=False,\n",
              "                         random_state=None, splitter='best')),\n",
              " ('SGD', SGDClassifier(alpha=0.0001, average=False, class_weight=None,\n",
              "                early_stopping=False, epsilon=0.1, eta0=0.0, fit_intercept=True,\n",
              "                l1_ratio=0.15, learning_rate='optimal', loss='log', max_iter=1000,\n",
              "                n_iter_no_change=5, n_jobs=None, penalty='l2', power_t=0.5,\n",
              "                random_state=2, shuffle=True, tol=0.001, validation_fraction=0.1,\n",
              "                verbose=0, warm_start=False)),\n",
              " ('XGBoost',\n",
              "  XGBClassifier(base_score=0.5, booster='gbtree', colsample_bylevel=1,\n",
              "                colsample_bynode=1, colsample_bytree=1, gamma=0,\n",
              "                learning_rate=0.1, max_delta_step=0, max_depth=3,\n",
              "                min_child_weight=1, missing=None, n_estimators=100, n_jobs=1,\n",
              "                nthread=None, objective='binary:logistic', random_state=0,\n",
              "                reg_alpha=0, reg_lambda=1, scale_pos_weight=1, seed=None,\n",
              "                silent=None, subsample=1, verbosity=1))]"
            ]
          },
          "metadata": {
            "tags": []
          },
          "execution_count": 208
        }
      ]
    },
    {
      "cell_type": "code",
      "metadata": {
        "id": "qWiNFSEzbsZ7",
        "colab_type": "code",
        "outputId": "22ea8d73-8634-46fe-91f5-01b18149d113",
        "colab": {
          "base_uri": "https://localhost:8080/",
          "height": 102
        }
      },
      "source": [
        "# Obtain the score of models on our prepared features\n",
        "results=[]\n",
        "names=[]\n",
        "for name, model in models:\n",
        "  kfold = model_selection.KFold(n_splits=5, random_state=0)\n",
        "  cv_results = model_selection.cross_val_score(model, train[features_list], train['stroke'], cv=kfold, scoring='accuracy')\n",
        "  results.append(cv_results)\n",
        "  names.append(name)\n",
        "  msg = \"%s: %f (%f)\" % (name, cv_results.mean(), cv_results.std())\n",
        "  print(msg)"
      ],
      "execution_count": 0,
      "outputs": [
        {
          "output_type": "stream",
          "text": [
            "LR: 0.982334 (0.001647)\n",
            "KNN: 0.981934 (0.001810)\n",
            "CART: 0.963901 (0.001639)\n",
            "SGD: 0.982301 (0.001705)\n",
            "XGBoost: 0.982334 (0.001647)\n"
          ],
          "name": "stdout"
        }
      ]
    },
    {
      "cell_type": "code",
      "metadata": {
        "id": "-idE9Xr8cHpa",
        "colab_type": "code",
        "colab": {}
      },
      "source": [
        "def my_cross_validation_for_roc_auc( clf, X, y ,cv=5):\n",
        "    X = np.array(X.copy())\n",
        "    y = np.array(y.copy())\n",
        "    kf = KFold(n_splits=cv)\n",
        "    kf.get_n_splits(X)\n",
        "    scores = []\n",
        "    for train_index, test_index in kf.split(X):\n",
        "        #print(\"TRAIN:\", train_index, \"TEST:\", test_index)\n",
        "        X_train, X_test = X[train_index], X[test_index]\n",
        "        y_train, y_test = y[train_index], y[test_index]\n",
        "        \n",
        "        clf.fit(X_train, y_train)\n",
        "        prediction_on_this_fold = clf.predict_proba(X_test)[:,1]\n",
        "        \n",
        "        score = roc_auc_score(y_score=prediction_on_this_fold, y_true=y_test)\n",
        "        scores.append(score)\n",
        "        \n",
        "    return scores"
      ],
      "execution_count": 0,
      "outputs": []
    },
    {
      "cell_type": "code",
      "metadata": {
        "id": "TnYwn7GsdWBT",
        "colab_type": "code",
        "outputId": "e57a97f1-6816-44d5-de09-41faefeb6fa5",
        "colab": {
          "base_uri": "https://localhost:8080/",
          "height": 952
        }
      },
      "source": [
        "# Which features have an impact in each model\n",
        "# Feature importance\n",
        "# Than create new list features for each model\n",
        "features_scores = {}\n",
        "for name, model in models:\n",
        "  print(name)\n",
        "  for f in features_list:\n",
        "    scores = my_cross_validation_for_roc_auc(model, train[[f]] , train['stroke'])\n",
        "    print(f,  np.mean(scores))\n",
        "    features_scores[f] = np.mean(scores)"
      ],
      "execution_count": 0,
      "outputs": [
        {
          "output_type": "stream",
          "text": [
            "LR\n",
            "gender_enc 0.4817542955444707\n",
            "age 0.8366076869311634\n",
            "hypertension 0.581615320246325\n",
            "heart_disease 0.5818777239077606\n",
            "ever_married 0.6259899654630761\n",
            "Residence_type 0.47530819779702477\n",
            "avg_glucose_level 0.6139074419876318\n",
            "bmi 0.5628027539558931\n",
            "work_type_enc 0.6158517888360108\n",
            "smoking_status_enc 0.5854061511636889\n",
            "KNN\n",
            "gender_enc 0.5123750205813817\n",
            "age 0.5508237989437605\n",
            "hypertension 0.5165726664923618\n",
            "heart_disease 0.5\n",
            "ever_married 0.5\n",
            "Residence_type 0.5\n",
            "avg_glucose_level 0.505994919417059\n",
            "bmi 0.5310050891727757\n",
            "work_type_enc 0.5161008013274642\n",
            "smoking_status_enc 0.4868470211965851\n",
            "CART\n",
            "gender_enc 0.5182457044555294\n",
            "age 0.8228435455404479\n",
            "hypertension 0.581615320246325\n",
            "heart_disease 0.5818777239077606\n",
            "ever_married 0.6259899654630761\n",
            "Residence_type 0.49321198951765294\n",
            "avg_glucose_level 0.49206327961442364\n",
            "bmi 0.5805058568243966\n",
            "work_type_enc 0.6068049732633557\n",
            "smoking_status_enc 0.5854061511636889\n",
            "SGD\n",
            "gender_enc 0.5182457044555294\n",
            "age 0.8366076869311634\n",
            "hypertension 0.581615320246325\n",
            "heart_disease 0.5818777239077606\n",
            "ever_married 0.6259899654630761\n",
            "Residence_type 0.47369911920623886\n",
            "avg_glucose_level 0.6139074419876318\n",
            "bmi 0.4743614574644014\n",
            "work_type_enc 0.6158517888360108\n",
            "smoking_status_enc 0.5854061511636889\n",
            "XGBoost\n",
            "gender_enc 0.5181527344280619\n",
            "age 0.832278583982108\n",
            "hypertension 0.581615320246325\n",
            "heart_disease 0.5818777239077606\n",
            "ever_married 0.6259899654630761\n",
            "Residence_type 0.49321198951765294\n",
            "avg_glucose_level 0.6056400468042924\n",
            "bmi 0.622677079080825\n",
            "work_type_enc 0.6067973906014428\n",
            "smoking_status_enc 0.5854061511636889\n"
          ],
          "name": "stdout"
        }
      ]
    },
    {
      "cell_type": "code",
      "metadata": {
        "id": "EORnfhvWk-Z8",
        "colab_type": "code",
        "colab": {}
      },
      "source": [
        "features_for_LR = ['age', 'hypertension','heart_disease','ever_married','avg_glucose_level', 'bmi', 'work_type_enc','smoking_status_enc']\n",
        "features_for_KNN = ['age', 'hypertension','heart_disease','ever_married','avg_glucose_level', 'bmi', 'work_type_enc']\n",
        "features_for_CART = ['age', 'hypertension','heart_disease','ever_married', 'bmi', 'work_type_enc','smoking_status_enc']\n",
        "features_for_SGD = ['age', 'hypertension','heart_disease','ever_married','avg_glucose_level', 'bmi']\n",
        "features_for_XGB = ['age', 'hypertension','heart_disease','ever_married','avg_glucose_level', 'bmi', 'work_type_enc','smoking_status_enc']"
      ],
      "execution_count": 0,
      "outputs": []
    },
    {
      "cell_type": "code",
      "metadata": {
        "id": "ZZ2AcH7anrLA",
        "colab_type": "code",
        "colab": {}
      },
      "source": [
        "features_full = [features_for_LR, features_for_KNN, features_for_CART, features_for_SGD, features_for_XGB]"
      ],
      "execution_count": 0,
      "outputs": []
    },
    {
      "cell_type": "code",
      "metadata": {
        "id": "efJCEoYVnaZi",
        "colab_type": "code",
        "outputId": "035b5c3d-444c-45e2-e4e6-bd6c60ebbe5a",
        "colab": {
          "base_uri": "https://localhost:8080/",
          "height": 442
        }
      },
      "source": [
        "# Try to obtain diff results on diff features in each model\n",
        "results=[]\n",
        "names=[]\n",
        "\n",
        "for name, model in models:\n",
        "  for f in features_full:\n",
        "    kfold = model_selection.KFold(n_splits=5, random_state=0)\n",
        "    cv_results = model_selection.cross_val_score(model, train[features_list], train['stroke'], cv=kfold, scoring='accuracy')\n",
        "    results.append(cv_results)\n",
        "    names.append(name)\n",
        "    msg = \"%s: %f (%f)\" % (name, cv_results.mean(), cv_results.std())\n",
        "    print(msg)\n"
      ],
      "execution_count": 0,
      "outputs": [
        {
          "output_type": "stream",
          "text": [
            "LR: 0.982334 (0.001647)\n",
            "LR: 0.982334 (0.001647)\n",
            "LR: 0.982334 (0.001647)\n",
            "LR: 0.982334 (0.001647)\n",
            "LR: 0.982334 (0.001647)\n",
            "KNN: 0.981934 (0.001810)\n",
            "KNN: 0.981934 (0.001810)\n",
            "KNN: 0.981934 (0.001810)\n",
            "KNN: 0.981934 (0.001810)\n",
            "KNN: 0.981934 (0.001810)\n",
            "CART: 0.963168 (0.001690)\n",
            "CART: 0.962801 (0.001507)\n",
            "CART: 0.963701 (0.001925)\n",
            "CART: 0.963701 (0.001807)\n",
            "CART: 0.963501 (0.001445)\n",
            "SGD: 0.982301 (0.001705)\n",
            "SGD: 0.982301 (0.001705)\n",
            "SGD: 0.982301 (0.001705)\n",
            "SGD: 0.982301 (0.001705)\n",
            "SGD: 0.982301 (0.001705)\n",
            "XGBoost: 0.982334 (0.001647)\n",
            "XGBoost: 0.982334 (0.001647)\n",
            "XGBoost: 0.982334 (0.001647)\n",
            "XGBoost: 0.982334 (0.001647)\n",
            "XGBoost: 0.982334 (0.001647)\n"
          ],
          "name": "stdout"
        }
      ]
    },
    {
      "cell_type": "code",
      "metadata": {
        "id": "2fvDt8s11kqP",
        "colab_type": "code",
        "outputId": "1da67d4b-e2ac-4688-d671-14eee12f7829",
        "colab": {
          "base_uri": "https://localhost:8080/",
          "height": 136
        }
      },
      "source": [
        "# Use three models\n",
        "# LogRegression; SGDClass; XGBClas\n",
        "lr = LogisticRegression(penalty = 'l2', solver='liblinear', multi_class='ovr')\n",
        "sgd = linear_model.SGDClassifier(max_iter=1000,  loss='log', penalty = 'l2', random_state=2)\n",
        "xgb = XGBClassifier()\n",
        "# Fitting our selected models\n",
        "lr.fit(train[features_for_LR], train['stroke'])\n",
        "sgd.fit(train[features_for_SGD], train['stroke'])\n",
        "xgb.fit(train[features_for_XGB], train['stroke'])"
      ],
      "execution_count": 0,
      "outputs": [
        {
          "output_type": "execute_result",
          "data": {
            "text/plain": [
              "XGBClassifier(base_score=0.5, booster='gbtree', colsample_bylevel=1,\n",
              "              colsample_bynode=1, colsample_bytree=1, gamma=0,\n",
              "              learning_rate=0.1, max_delta_step=0, max_depth=3,\n",
              "              min_child_weight=1, missing=None, n_estimators=100, n_jobs=1,\n",
              "              nthread=None, objective='binary:logistic', random_state=0,\n",
              "              reg_alpha=0, reg_lambda=1, scale_pos_weight=1, seed=None,\n",
              "              silent=None, subsample=1, verbosity=1)"
            ]
          },
          "metadata": {
            "tags": []
          },
          "execution_count": 215
        }
      ]
    },
    {
      "cell_type": "code",
      "metadata": {
        "id": "t5Y-xQPU2LvY",
        "colab_type": "code",
        "colab": {}
      },
      "source": [
        "# Predictions\n",
        "prediction_LR = lr.predict_proba(test[features_for_LR])[:,1]\n",
        "prediction_SGD = sgd.predict_proba(test[features_for_SGD])[:,1]\n",
        "prediction_XGB = xgb.predict_proba(test[features_for_XGB])[:,1]"
      ],
      "execution_count": 0,
      "outputs": []
    },
    {
      "cell_type": "code",
      "metadata": {
        "id": "qC7992X75ZQ0",
        "colab_type": "code",
        "outputId": "49a46274-ba18-4e97-b012-cd1212c6c53d",
        "colab": {
          "base_uri": "https://localhost:8080/",
          "height": 34
        }
      },
      "source": [
        "#print(prediction_XGB)"
      ],
      "execution_count": 0,
      "outputs": [
        {
          "output_type": "stream",
          "text": [
            "[0.0002123  0.00976355 0.01235282 ... 0.04960624 0.00386733 0.06876039]\n"
          ],
          "name": "stdout"
        }
      ]
    },
    {
      "cell_type": "code",
      "metadata": {
        "id": "tC5KwSJ24xcn",
        "colab_type": "code",
        "colab": {}
      },
      "source": [
        "# Write into csv files\n",
        "sample['stroke'] = prediction_LR\n",
        "sample.to_csv('submit_LR.csv', index=None)\n",
        "sample['stroke'] = prediction_SGD\n",
        "sample.to_csv('submit_SGD.csv', index=None)\n",
        "sample['stroke'] = prediction_XGB\n",
        "sample.to_csv('submit_XGB.csv', index=None)"
      ],
      "execution_count": 0,
      "outputs": []
    },
    {
      "cell_type": "markdown",
      "metadata": {
        "id": "xOdHGBB9VZ43",
        "colab_type": "text"
      },
      "source": [
        "The results obtained from Kaggle\\\n",
        "SGD_SCORE = 0.85530\\\n",
        "XGB_SCORE = 0.85657\\\n",
        "LR_SCORE = 0.86559"
      ]
    },
    {
      "cell_type": "code",
      "metadata": {
        "id": "U3sD8wwEOvDr",
        "colab_type": "code",
        "colab": {}
      },
      "source": [
        "# Ther results obtained from Kaggle\n",
        "#SGD_SCORE = 0.85530\n",
        "#XGB_SCORE = 0.85657\n",
        "#LR_SCORE = 0.86559\n"
      ],
      "execution_count": 0,
      "outputs": []
    },
    {
      "cell_type": "code",
      "metadata": {
        "id": "jAYrpK8F-g9E",
        "colab_type": "code",
        "colab": {
          "base_uri": "https://localhost:8080/",
          "height": 122
        },
        "outputId": "350b487f-77b0-48b9-b4f4-b749015c8e92"
      },
      "source": [
        "#from xgboost import XGBRegressor\n",
        "#mll = XGBRegressor(max_depth = 10, learning_rate=0.01)\n",
        "#ft_list = ['age', 'hypertension','heart_disease','ever_married','avg_glucose_level', 'bmi', 'smoking_status_enc']\n",
        "#mll.fit(train[ft_list], train['stroke'])\n",
        "\n",
        "#sample['stroke'] = mll.predict(test[ft_list])\n",
        "#sample.to_csv('submit_reg.csv', index=None)"
      ],
      "execution_count": 221,
      "outputs": [
        {
          "output_type": "stream",
          "text": [
            "/usr/local/lib/python3.6/dist-packages/xgboost/core.py:587: FutureWarning: Series.base is deprecated and will be removed in a future version\n",
            "  if getattr(data, 'base', None) is not None and \\\n",
            "/usr/local/lib/python3.6/dist-packages/xgboost/core.py:588: FutureWarning: Series.base is deprecated and will be removed in a future version\n",
            "  data.base is not None and isinstance(data, np.ndarray) \\\n"
          ],
          "name": "stderr"
        },
        {
          "output_type": "stream",
          "text": [
            "[15:49:43] WARNING: /workspace/src/objective/regression_obj.cu:152: reg:linear is now deprecated in favor of reg:squarederror.\n"
          ],
          "name": "stdout"
        }
      ]
    },
    {
      "cell_type": "code",
      "metadata": {
        "id": "IC9I4BFV_qtF",
        "colab_type": "code",
        "colab": {}
      },
      "source": [
        ""
      ],
      "execution_count": 0,
      "outputs": []
    }
  ]
}