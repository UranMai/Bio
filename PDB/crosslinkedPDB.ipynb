{
  "nbformat": 4,
  "nbformat_minor": 0,
  "metadata": {
    "colab": {
      "name": "Untitled1.ipynb",
      "provenance": [],
      "collapsed_sections": [],
      "mount_file_id": "1ZRl0rO8fLwYhdM8eXTETt4wail5K72eL",
      "authorship_tag": "ABX9TyN3MTOUdx8Jxsx2GFhKgh3s",
      "include_colab_link": true
    },
    "kernelspec": {
      "name": "python3",
      "display_name": "Python 3"
    }
  },
  "cells": [
    {
      "cell_type": "markdown",
      "metadata": {
        "id": "view-in-github",
        "colab_type": "text"
      },
      "source": [
        "<a href=\"https://colab.research.google.com/github/UranMai/Bio/blob/master/Untitled1.ipynb\" target=\"_parent\"><img src=\"https://colab.research.google.com/assets/colab-badge.svg\" alt=\"Open In Colab\"/></a>"
      ]
    },
    {
      "cell_type": "markdown",
      "metadata": {
        "id": "Tb3N15pnTKeA",
        "colab_type": "text"
      },
      "source": [
        "# FIND CROSS-LINKED ATOMS \n",
        "**Cross-linked atoms are atoms not connected in the primary structure**\n",
        "\n",
        "\n",
        "*   https://www.wwpdb.org/documentation/file-format-content/format33/sect10.html\n",
        "*   https://www.cgl.ucsf.edu/chimera/docs/UsersGuide/tutorials/framepdbintro.html\n",
        "*   http://ofranservices.biu.ac.il/site/services/epitope/pdf/PDB-format.pdf\n",
        "*   http://rasbt.github.io/biopandas/tutorials/Working_with_PDB_Structures_in_DataFrames/\n",
        "*   https://academic.oup.com/bioinformatics/article/27/15/2163/404176\n",
        "\n",
        "\n",
        "\n",
        "**HETATOM** - atoms in nonstandard residues. Nonstandard residues include inhibitors, cofactors, ions, and solvent. The only functional difference from **ATOM** records is that *HETATM* residues are by default not connected to other residues. Note that water residues should be in *HETATM* records."
      ]
    },
    {
      "cell_type": "code",
      "metadata": {
        "id": "ucUM6Q-IcdyY",
        "colab_type": "code",
        "outputId": "47f20535-0791-4137-b088-cfe3b437f5b7",
        "colab": {
          "base_uri": "https://localhost:8080/",
          "height": 283
        }
      },
      "source": [
        "%%bash\n",
        "python drive/My\\ Drive/Colab\\ Notebooks/crossPDB2.py --pdb 5t1a.pdb"
      ],
      "execution_count": 23,
      "outputs": [
        {
          "output_type": "stream",
          "text": [
            "    element_symbol  atom_number atom_name  ... x_coord  y_coord  z_coord\n",
            "2                C         1120        CB  ...  18.805   29.332  148.600\n",
            "3                S         1121        SG  ...  17.945   30.434  147.510\n",
            "4                C         1122        CD  ...  19.045   30.731  146.160\n",
            "5                C         1123        CE  ...  20.078   31.810  146.405\n",
            "6                O         1124       OZ1  ...  21.301   31.570  146.277\n",
            "..             ...          ...       ...  ...     ...      ...      ...\n",
            "127              O         3577         O  ...  10.355   22.239  154.323\n",
            "128              O         3578         O  ...   0.508    4.148  161.185\n",
            "129              O         3579         O  ...  15.034   14.598  215.822\n",
            "130              O         3580         O  ...  17.079   12.508  215.054\n",
            "131              O         3581         O  ...   1.182    4.687  163.526\n",
            "\n",
            "[126 rows x 7 columns]\n",
            "Done! 0.27 sec\n"
          ],
          "name": "stdout"
        }
      ]
    },
    {
      "cell_type": "code",
      "metadata": {
        "id": "770AiezcGNwv",
        "colab_type": "code",
        "outputId": "366f5b3e-d9bb-480a-b651-b7f41b0db373",
        "colab": {
          "base_uri": "https://localhost:8080/",
          "height": 161
        }
      },
      "source": [
        "!pip install biopandas\n",
        "from biopandas.pdb import PandasPdb\n",
        "pdb = PandasPdb()\n",
        "pdb = pdb.read_pdb('5t1a.pdb')"
      ],
      "execution_count": 25,
      "outputs": [
        {
          "output_type": "stream",
          "text": [
            "Requirement already satisfied: biopandas in /usr/local/lib/python3.6/dist-packages (0.2.5)\n",
            "Requirement already satisfied: setuptools in /usr/local/lib/python3.6/dist-packages (from biopandas) (46.1.3)\n",
            "Requirement already satisfied: pandas>=0.24.2 in /usr/local/lib/python3.6/dist-packages (from biopandas) (1.0.3)\n",
            "Requirement already satisfied: numpy>=1.16.2 in /usr/local/lib/python3.6/dist-packages (from biopandas) (1.18.2)\n",
            "Requirement already satisfied: pytz>=2017.2 in /usr/local/lib/python3.6/dist-packages (from pandas>=0.24.2->biopandas) (2018.9)\n",
            "Requirement already satisfied: python-dateutil>=2.6.1 in /usr/local/lib/python3.6/dist-packages (from pandas>=0.24.2->biopandas) (2.8.1)\n",
            "Requirement already satisfied: six>=1.5 in /usr/local/lib/python3.6/dist-packages (from python-dateutil>=2.6.1->pandas>=0.24.2->biopandas) (1.12.0)\n"
          ],
          "name": "stdout"
        }
      ]
    },
    {
      "cell_type": "code",
      "metadata": {
        "id": "gAKWJsIvEgPN",
        "colab_type": "code",
        "colab": {
          "base_uri": "https://localhost:8080/",
          "height": 217
        },
        "outputId": "2e1ed5ab-9e50-48bc-c335-328fe33734b2"
      },
      "source": [
        "pdb.df['ATOM'].head()"
      ],
      "execution_count": 4,
      "outputs": [
        {
          "output_type": "execute_result",
          "data": {
            "text/html": [
              "<div>\n",
              "<style scoped>\n",
              "    .dataframe tbody tr th:only-of-type {\n",
              "        vertical-align: middle;\n",
              "    }\n",
              "\n",
              "    .dataframe tbody tr th {\n",
              "        vertical-align: top;\n",
              "    }\n",
              "\n",
              "    .dataframe thead th {\n",
              "        text-align: right;\n",
              "    }\n",
              "</style>\n",
              "<table border=\"1\" class=\"dataframe\">\n",
              "  <thead>\n",
              "    <tr style=\"text-align: right;\">\n",
              "      <th></th>\n",
              "      <th>record_name</th>\n",
              "      <th>atom_number</th>\n",
              "      <th>blank_1</th>\n",
              "      <th>atom_name</th>\n",
              "      <th>alt_loc</th>\n",
              "      <th>residue_name</th>\n",
              "      <th>blank_2</th>\n",
              "      <th>chain_id</th>\n",
              "      <th>residue_number</th>\n",
              "      <th>insertion</th>\n",
              "      <th>blank_3</th>\n",
              "      <th>x_coord</th>\n",
              "      <th>y_coord</th>\n",
              "      <th>z_coord</th>\n",
              "      <th>occupancy</th>\n",
              "      <th>b_factor</th>\n",
              "      <th>blank_4</th>\n",
              "      <th>segment_id</th>\n",
              "      <th>element_symbol</th>\n",
              "      <th>charge</th>\n",
              "      <th>line_idx</th>\n",
              "    </tr>\n",
              "  </thead>\n",
              "  <tbody>\n",
              "    <tr>\n",
              "      <th>0</th>\n",
              "      <td>ATOM</td>\n",
              "      <td>1</td>\n",
              "      <td></td>\n",
              "      <td>N</td>\n",
              "      <td></td>\n",
              "      <td>VAL</td>\n",
              "      <td></td>\n",
              "      <td>A</td>\n",
              "      <td>37</td>\n",
              "      <td></td>\n",
              "      <td></td>\n",
              "      <td>-1.473</td>\n",
              "      <td>24.606</td>\n",
              "      <td>146.051</td>\n",
              "      <td>1.0</td>\n",
              "      <td>91.86</td>\n",
              "      <td></td>\n",
              "      <td></td>\n",
              "      <td>N</td>\n",
              "      <td>NaN</td>\n",
              "      <td>629</td>\n",
              "    </tr>\n",
              "    <tr>\n",
              "      <th>1</th>\n",
              "      <td>ATOM</td>\n",
              "      <td>2</td>\n",
              "      <td></td>\n",
              "      <td>CA</td>\n",
              "      <td></td>\n",
              "      <td>VAL</td>\n",
              "      <td></td>\n",
              "      <td>A</td>\n",
              "      <td>37</td>\n",
              "      <td></td>\n",
              "      <td></td>\n",
              "      <td>-1.496</td>\n",
              "      <td>24.944</td>\n",
              "      <td>147.482</td>\n",
              "      <td>1.0</td>\n",
              "      <td>88.55</td>\n",
              "      <td></td>\n",
              "      <td></td>\n",
              "      <td>C</td>\n",
              "      <td>NaN</td>\n",
              "      <td>631</td>\n",
              "    </tr>\n",
              "    <tr>\n",
              "      <th>2</th>\n",
              "      <td>ATOM</td>\n",
              "      <td>3</td>\n",
              "      <td></td>\n",
              "      <td>C</td>\n",
              "      <td></td>\n",
              "      <td>VAL</td>\n",
              "      <td></td>\n",
              "      <td>A</td>\n",
              "      <td>37</td>\n",
              "      <td></td>\n",
              "      <td></td>\n",
              "      <td>-0.941</td>\n",
              "      <td>26.368</td>\n",
              "      <td>147.707</td>\n",
              "      <td>1.0</td>\n",
              "      <td>83.45</td>\n",
              "      <td></td>\n",
              "      <td></td>\n",
              "      <td>C</td>\n",
              "      <td>NaN</td>\n",
              "      <td>633</td>\n",
              "    </tr>\n",
              "    <tr>\n",
              "      <th>3</th>\n",
              "      <td>ATOM</td>\n",
              "      <td>4</td>\n",
              "      <td></td>\n",
              "      <td>O</td>\n",
              "      <td></td>\n",
              "      <td>VAL</td>\n",
              "      <td></td>\n",
              "      <td>A</td>\n",
              "      <td>37</td>\n",
              "      <td></td>\n",
              "      <td></td>\n",
              "      <td>-1.452</td>\n",
              "      <td>27.090</td>\n",
              "      <td>148.545</td>\n",
              "      <td>1.0</td>\n",
              "      <td>85.03</td>\n",
              "      <td></td>\n",
              "      <td></td>\n",
              "      <td>O</td>\n",
              "      <td>NaN</td>\n",
              "      <td>635</td>\n",
              "    </tr>\n",
              "    <tr>\n",
              "      <th>4</th>\n",
              "      <td>ATOM</td>\n",
              "      <td>5</td>\n",
              "      <td></td>\n",
              "      <td>CB</td>\n",
              "      <td></td>\n",
              "      <td>VAL</td>\n",
              "      <td></td>\n",
              "      <td>A</td>\n",
              "      <td>37</td>\n",
              "      <td></td>\n",
              "      <td></td>\n",
              "      <td>-0.713</td>\n",
              "      <td>23.869</td>\n",
              "      <td>148.309</td>\n",
              "      <td>1.0</td>\n",
              "      <td>86.56</td>\n",
              "      <td></td>\n",
              "      <td></td>\n",
              "      <td>C</td>\n",
              "      <td>NaN</td>\n",
              "      <td>637</td>\n",
              "    </tr>\n",
              "  </tbody>\n",
              "</table>\n",
              "</div>"
            ],
            "text/plain": [
              "  record_name  atom_number blank_1  ... element_symbol charge line_idx\n",
              "0        ATOM            1          ...              N    NaN      629\n",
              "1        ATOM            2          ...              C    NaN      631\n",
              "2        ATOM            3          ...              C    NaN      633\n",
              "3        ATOM            4          ...              O    NaN      635\n",
              "4        ATOM            5          ...              C    NaN      637\n",
              "\n",
              "[5 rows x 21 columns]"
            ]
          },
          "metadata": {
            "tags": []
          },
          "execution_count": 4
        }
      ]
    },
    {
      "cell_type": "code",
      "metadata": {
        "id": "Q3HAio6xEkgH",
        "colab_type": "code",
        "colab": {
          "base_uri": "https://localhost:8080/",
          "height": 217
        },
        "outputId": "77470bdb-18cf-4b64-86b3-75ed6467064e"
      },
      "source": [
        "pdb.df['HETATM'].head()"
      ],
      "execution_count": 24,
      "outputs": [
        {
          "output_type": "execute_result",
          "data": {
            "text/html": [
              "<div>\n",
              "<style scoped>\n",
              "    .dataframe tbody tr th:only-of-type {\n",
              "        vertical-align: middle;\n",
              "    }\n",
              "\n",
              "    .dataframe tbody tr th {\n",
              "        vertical-align: top;\n",
              "    }\n",
              "\n",
              "    .dataframe thead th {\n",
              "        text-align: right;\n",
              "    }\n",
              "</style>\n",
              "<table border=\"1\" class=\"dataframe\">\n",
              "  <thead>\n",
              "    <tr style=\"text-align: right;\">\n",
              "      <th></th>\n",
              "      <th>record_name</th>\n",
              "      <th>atom_number</th>\n",
              "      <th>blank_1</th>\n",
              "      <th>atom_name</th>\n",
              "      <th>alt_loc</th>\n",
              "      <th>residue_name</th>\n",
              "      <th>blank_2</th>\n",
              "      <th>chain_id</th>\n",
              "      <th>residue_number</th>\n",
              "      <th>insertion</th>\n",
              "      <th>blank_3</th>\n",
              "      <th>x_coord</th>\n",
              "      <th>y_coord</th>\n",
              "      <th>z_coord</th>\n",
              "      <th>occupancy</th>\n",
              "      <th>b_factor</th>\n",
              "      <th>blank_4</th>\n",
              "      <th>segment_id</th>\n",
              "      <th>element_symbol</th>\n",
              "      <th>charge</th>\n",
              "      <th>line_idx</th>\n",
              "    </tr>\n",
              "  </thead>\n",
              "  <tbody>\n",
              "    <tr>\n",
              "      <th>0</th>\n",
              "      <td>HETATM</td>\n",
              "      <td>1118</td>\n",
              "      <td></td>\n",
              "      <td>N</td>\n",
              "      <td></td>\n",
              "      <td>YCM</td>\n",
              "      <td></td>\n",
              "      <td>A</td>\n",
              "      <td>181</td>\n",
              "      <td></td>\n",
              "      <td></td>\n",
              "      <td>19.334</td>\n",
              "      <td>26.988</td>\n",
              "      <td>149.251</td>\n",
              "      <td>1.0</td>\n",
              "      <td>51.33</td>\n",
              "      <td></td>\n",
              "      <td></td>\n",
              "      <td>N</td>\n",
              "      <td>NaN</td>\n",
              "      <td>2863</td>\n",
              "    </tr>\n",
              "    <tr>\n",
              "      <th>1</th>\n",
              "      <td>HETATM</td>\n",
              "      <td>1119</td>\n",
              "      <td></td>\n",
              "      <td>CA</td>\n",
              "      <td></td>\n",
              "      <td>YCM</td>\n",
              "      <td></td>\n",
              "      <td>A</td>\n",
              "      <td>181</td>\n",
              "      <td></td>\n",
              "      <td></td>\n",
              "      <td>18.529</td>\n",
              "      <td>27.840</td>\n",
              "      <td>148.412</td>\n",
              "      <td>1.0</td>\n",
              "      <td>53.52</td>\n",
              "      <td></td>\n",
              "      <td></td>\n",
              "      <td>C</td>\n",
              "      <td>NaN</td>\n",
              "      <td>2865</td>\n",
              "    </tr>\n",
              "    <tr>\n",
              "      <th>2</th>\n",
              "      <td>HETATM</td>\n",
              "      <td>1120</td>\n",
              "      <td></td>\n",
              "      <td>CB</td>\n",
              "      <td></td>\n",
              "      <td>YCM</td>\n",
              "      <td></td>\n",
              "      <td>A</td>\n",
              "      <td>181</td>\n",
              "      <td></td>\n",
              "      <td></td>\n",
              "      <td>18.805</td>\n",
              "      <td>29.332</td>\n",
              "      <td>148.600</td>\n",
              "      <td>1.0</td>\n",
              "      <td>53.26</td>\n",
              "      <td></td>\n",
              "      <td></td>\n",
              "      <td>C</td>\n",
              "      <td>NaN</td>\n",
              "      <td>2867</td>\n",
              "    </tr>\n",
              "    <tr>\n",
              "      <th>3</th>\n",
              "      <td>HETATM</td>\n",
              "      <td>1121</td>\n",
              "      <td></td>\n",
              "      <td>SG</td>\n",
              "      <td></td>\n",
              "      <td>YCM</td>\n",
              "      <td></td>\n",
              "      <td>A</td>\n",
              "      <td>181</td>\n",
              "      <td></td>\n",
              "      <td></td>\n",
              "      <td>17.945</td>\n",
              "      <td>30.434</td>\n",
              "      <td>147.510</td>\n",
              "      <td>1.0</td>\n",
              "      <td>56.08</td>\n",
              "      <td></td>\n",
              "      <td></td>\n",
              "      <td>S</td>\n",
              "      <td>NaN</td>\n",
              "      <td>2869</td>\n",
              "    </tr>\n",
              "    <tr>\n",
              "      <th>4</th>\n",
              "      <td>HETATM</td>\n",
              "      <td>1122</td>\n",
              "      <td></td>\n",
              "      <td>CD</td>\n",
              "      <td></td>\n",
              "      <td>YCM</td>\n",
              "      <td></td>\n",
              "      <td>A</td>\n",
              "      <td>181</td>\n",
              "      <td></td>\n",
              "      <td></td>\n",
              "      <td>19.045</td>\n",
              "      <td>30.731</td>\n",
              "      <td>146.160</td>\n",
              "      <td>1.0</td>\n",
              "      <td>64.13</td>\n",
              "      <td></td>\n",
              "      <td></td>\n",
              "      <td>C</td>\n",
              "      <td>NaN</td>\n",
              "      <td>2871</td>\n",
              "    </tr>\n",
              "  </tbody>\n",
              "</table>\n",
              "</div>"
            ],
            "text/plain": [
              "  record_name  atom_number blank_1  ... element_symbol charge line_idx\n",
              "0      HETATM         1118          ...              N    NaN     2863\n",
              "1      HETATM         1119          ...              C    NaN     2865\n",
              "2      HETATM         1120          ...              C    NaN     2867\n",
              "3      HETATM         1121          ...              S    NaN     2869\n",
              "4      HETATM         1122          ...              C    NaN     2871\n",
              "\n",
              "[5 rows x 21 columns]"
            ]
          },
          "metadata": {
            "tags": []
          },
          "execution_count": 24
        }
      ]
    },
    {
      "cell_type": "code",
      "metadata": {
        "id": "n--XqfMYrvnw",
        "colab_type": "code",
        "colab": {}
      },
      "source": [
        "pdb.df['OTHERS'][pdb.df['OTHERS']['record_name'] == 'TER']"
      ],
      "execution_count": 0,
      "outputs": []
    },
    {
      "cell_type": "code",
      "metadata": {
        "id": "rxMvwe9N9QVe",
        "colab_type": "code",
        "outputId": "87a632af-a417-4d0c-8d4c-19638c8b36a1",
        "colab": {
          "base_uri": "https://localhost:8080/",
          "height": 197
        }
      },
      "source": [
        "conect_df = pdb.df['OTHERS'][pdb.df['OTHERS']['record_name'] == 'CONECT']\n",
        "conect_df.head()"
      ],
      "execution_count": 9,
      "outputs": [
        {
          "output_type": "execute_result",
          "data": {
            "text/html": [
              "<div>\n",
              "<style scoped>\n",
              "    .dataframe tbody tr th:only-of-type {\n",
              "        vertical-align: middle;\n",
              "    }\n",
              "\n",
              "    .dataframe tbody tr th {\n",
              "        vertical-align: top;\n",
              "    }\n",
              "\n",
              "    .dataframe thead th {\n",
              "        text-align: right;\n",
              "    }\n",
              "</style>\n",
              "<table border=\"1\" class=\"dataframe\">\n",
              "  <thead>\n",
              "    <tr style=\"text-align: right;\">\n",
              "      <th></th>\n",
              "      <th>record_name</th>\n",
              "      <th>entry</th>\n",
              "      <th>line_idx</th>\n",
              "    </tr>\n",
              "  </thead>\n",
              "  <tbody>\n",
              "    <tr>\n",
              "      <th>630</th>\n",
              "      <td>CONECT</td>\n",
              "      <td>591 1192</td>\n",
              "      <td>7668</td>\n",
              "    </tr>\n",
              "    <tr>\n",
              "      <th>631</th>\n",
              "      <td>CONECT</td>\n",
              "      <td>849 3564</td>\n",
              "      <td>7669</td>\n",
              "    </tr>\n",
              "    <tr>\n",
              "      <th>632</th>\n",
              "      <td>CONECT</td>\n",
              "      <td>1111 1118</td>\n",
              "      <td>7670</td>\n",
              "    </tr>\n",
              "    <tr>\n",
              "      <th>633</th>\n",
              "      <td>CONECT</td>\n",
              "      <td>1118 1111 1119</td>\n",
              "      <td>7671</td>\n",
              "    </tr>\n",
              "    <tr>\n",
              "      <th>634</th>\n",
              "      <td>CONECT</td>\n",
              "      <td>1119 1118 1120 1126</td>\n",
              "      <td>7672</td>\n",
              "    </tr>\n",
              "  </tbody>\n",
              "</table>\n",
              "</div>"
            ],
            "text/plain": [
              "    record_name                 entry  line_idx\n",
              "630      CONECT              591 1192      7668\n",
              "631      CONECT              849 3564      7669\n",
              "632      CONECT             1111 1118      7670\n",
              "633      CONECT        1118 1111 1119      7671\n",
              "634      CONECT   1119 1118 1120 1126      7672"
            ]
          },
          "metadata": {
            "tags": []
          },
          "execution_count": 9
        }
      ]
    },
    {
      "cell_type": "code",
      "metadata": {
        "id": "RyKv5ZyzKYVc",
        "colab_type": "code",
        "colab": {
          "base_uri": "https://localhost:8080/",
          "height": 230
        },
        "outputId": "a8ce3ee6-be2c-47d4-f466-f695c38e0cdb"
      },
      "source": [
        "# conect_df = pdb.df['OTHERS'][pdb.df['OTHERS']['record_name'] == 'CONECT']\n",
        "# cons = conect_df['entry'].str.split()\n",
        "# cons"
      ],
      "execution_count": 10,
      "outputs": [
        {
          "output_type": "execute_result",
          "data": {
            "text/plain": [
              "630                      [591, 1192]\n",
              "631                      [849, 3564]\n",
              "632                     [1111, 1118]\n",
              "633               [1118, 1111, 1119]\n",
              "634         [1119, 1118, 1120, 1126]\n",
              "                   ...              \n",
              "748                     [3561, 3545]\n",
              "749                     [3562, 3559]\n",
              "750               [3563, 3557, 3558]\n",
              "751    [3564, 849, 1561, 2808, 3571]\n",
              "752                     [3571, 3564]\n",
              "Name: entry, Length: 123, dtype: object"
            ]
          },
          "metadata": {
            "tags": []
          },
          "execution_count": 10
        }
      ]
    },
    {
      "cell_type": "code",
      "metadata": {
        "id": "_H7f0zLEV-UM",
        "colab_type": "code",
        "colab": {}
      },
      "source": [
        "def atom_connections():\n",
        "    \"\"\"\n",
        "    CONECT section in PDB - info about atom connections in \"entry\" column\n",
        "    HETATM - atoms not connected to primary structure\n",
        "    \"\"\"\n",
        "\n",
        "    conect_data = pdb.df['OTHERS'][pdb.df['OTHERS']['record_name'] == 'CONECT']\n",
        "    connections =  conect_data['entry'].str.split()\n",
        "    hetatms = pdb.df['HETATM']['atom_number'].to_list() #ids of all hetatoms\n",
        "\n",
        "    atom_connect = list() #atoms that connects to other atoms in primary structure\n",
        "    atom_noconnect = list() #actual hetatoms\n",
        "\n",
        "    for atoms in connections:    \n",
        "        if all(int(ids) in hetatms for ids in atoms):\n",
        "            atom_noconnect.append(atoms)\n",
        "        else:\n",
        "            atom_connect.append(atoms)\n",
        "    return (atom_connect, atom_noconnect)\n",
        "\n",
        "def hetatoms_ids():\n",
        "    \"\"\"\n",
        "    Find atoms ids in heratms that connect to atoms from primary structure\n",
        "    \"\"\"\n",
        "    atom_connect, atom_nonconnect = atom_connections()\n",
        "    hetatms = pdb.df['HETATM']['atom_number'].to_list()\n",
        "\n",
        "    drop_atom_ids = list()\n",
        "    nodrop_atom_ids = list()\n",
        "\n",
        "    for atom in atom_connect:\n",
        "        atom = list(map(int, atom))\n",
        "        for idx in atom:\n",
        "            if idx in hetatms:\n",
        "                drop_atom_ids.append(idx)\n",
        "            else:\n",
        "                nodrop_atom_ids.append(idx)\n",
        "    return list(set(drop_atom_ids))\n",
        "    \n",
        "def cross_linked_atoms():\n",
        "    atom_ids = hetatoms_ids()\n",
        "    hetatoms = pdb.df['HETATM']\n",
        "    hetatoms = hetatoms[~hetatoms['atom_number'].isin(atom_ids)]\n",
        "    columns = ['element_symbol','atom_number', 'atom_name', 'residue_name', 'x_coord', 'y_coord', 'z_coord']\n",
        "    hetatoms = hetatoms[columns]\n",
        "    return hetatoms"
      ],
      "execution_count": 0,
      "outputs": []
    },
    {
      "cell_type": "markdown",
      "metadata": {
        "id": "9tYsAIiyGcwM",
        "colab_type": "text"
      },
      "source": [
        "**Hetatoms ids that connect to other atoms from primary structure**\n"
      ]
    },
    {
      "cell_type": "code",
      "metadata": {
        "id": "xLThRmJYFyQb",
        "colab_type": "code",
        "colab": {
          "base_uri": "https://localhost:8080/",
          "height": 34
        },
        "outputId": "fadbcd36-2e16-4b5a-911e-7e55e732899f"
      },
      "source": [
        "hetatoms_ids()"
      ],
      "execution_count": 16,
      "outputs": [
        {
          "output_type": "execute_result",
          "data": {
            "text/plain": [
              "[1126, 1127, 3564, 3571, 1118, 1119]"
            ]
          },
          "metadata": {
            "tags": []
          },
          "execution_count": 16
        }
      ]
    },
    {
      "cell_type": "markdown",
      "metadata": {
        "id": "wX76RHgbGks4",
        "colab_type": "text"
      },
      "source": [
        "**Output of cross-linked atoms**"
      ]
    },
    {
      "cell_type": "code",
      "metadata": {
        "id": "lFigOgZaFdqQ",
        "colab_type": "code",
        "colab": {
          "base_uri": "https://localhost:8080/",
          "height": 197
        },
        "outputId": "47856df4-5cb9-49b5-c574-c52ced0d4f9f"
      },
      "source": [
        "cross_linked_atoms().head()"
      ],
      "execution_count": 21,
      "outputs": [
        {
          "output_type": "execute_result",
          "data": {
            "text/html": [
              "<div>\n",
              "<style scoped>\n",
              "    .dataframe tbody tr th:only-of-type {\n",
              "        vertical-align: middle;\n",
              "    }\n",
              "\n",
              "    .dataframe tbody tr th {\n",
              "        vertical-align: top;\n",
              "    }\n",
              "\n",
              "    .dataframe thead th {\n",
              "        text-align: right;\n",
              "    }\n",
              "</style>\n",
              "<table border=\"1\" class=\"dataframe\">\n",
              "  <thead>\n",
              "    <tr style=\"text-align: right;\">\n",
              "      <th></th>\n",
              "      <th>element_symbol</th>\n",
              "      <th>atom_number</th>\n",
              "      <th>atom_name</th>\n",
              "      <th>residue_name</th>\n",
              "      <th>x_coord</th>\n",
              "      <th>y_coord</th>\n",
              "      <th>z_coord</th>\n",
              "    </tr>\n",
              "  </thead>\n",
              "  <tbody>\n",
              "    <tr>\n",
              "      <th>2</th>\n",
              "      <td>C</td>\n",
              "      <td>1120</td>\n",
              "      <td>CB</td>\n",
              "      <td>YCM</td>\n",
              "      <td>18.805</td>\n",
              "      <td>29.332</td>\n",
              "      <td>148.600</td>\n",
              "    </tr>\n",
              "    <tr>\n",
              "      <th>3</th>\n",
              "      <td>S</td>\n",
              "      <td>1121</td>\n",
              "      <td>SG</td>\n",
              "      <td>YCM</td>\n",
              "      <td>17.945</td>\n",
              "      <td>30.434</td>\n",
              "      <td>147.510</td>\n",
              "    </tr>\n",
              "    <tr>\n",
              "      <th>4</th>\n",
              "      <td>C</td>\n",
              "      <td>1122</td>\n",
              "      <td>CD</td>\n",
              "      <td>YCM</td>\n",
              "      <td>19.045</td>\n",
              "      <td>30.731</td>\n",
              "      <td>146.160</td>\n",
              "    </tr>\n",
              "    <tr>\n",
              "      <th>5</th>\n",
              "      <td>C</td>\n",
              "      <td>1123</td>\n",
              "      <td>CE</td>\n",
              "      <td>YCM</td>\n",
              "      <td>20.078</td>\n",
              "      <td>31.810</td>\n",
              "      <td>146.405</td>\n",
              "    </tr>\n",
              "    <tr>\n",
              "      <th>6</th>\n",
              "      <td>O</td>\n",
              "      <td>1124</td>\n",
              "      <td>OZ1</td>\n",
              "      <td>YCM</td>\n",
              "      <td>21.301</td>\n",
              "      <td>31.570</td>\n",
              "      <td>146.277</td>\n",
              "    </tr>\n",
              "  </tbody>\n",
              "</table>\n",
              "</div>"
            ],
            "text/plain": [
              "  element_symbol  atom_number atom_name residue_name  x_coord  y_coord  z_coord\n",
              "2              C         1120        CB          YCM   18.805   29.332  148.600\n",
              "3              S         1121        SG          YCM   17.945   30.434  147.510\n",
              "4              C         1122        CD          YCM   19.045   30.731  146.160\n",
              "5              C         1123        CE          YCM   20.078   31.810  146.405\n",
              "6              O         1124       OZ1          YCM   21.301   31.570  146.277"
            ]
          },
          "metadata": {
            "tags": []
          },
          "execution_count": 21
        }
      ]
    },
    {
      "cell_type": "markdown",
      "metadata": {
        "id": "SIQBAtIzFGUy",
        "colab_type": "text"
      },
      "source": [
        "# TEST"
      ]
    },
    {
      "cell_type": "code",
      "metadata": {
        "id": "dthXKb2jIZ91",
        "colab_type": "code",
        "colab": {}
      },
      "source": [
        "def find_conn_atoms_in_conect_table(len_value):\n",
        "    \"\"\"\n",
        "    Find ids of hetatoms that connects to primary structure\n",
        "    in CONECT section of PDB file  \n",
        "    \"\"\"    \n",
        "    #CONECT table\n",
        "    conect_data = pdb.df['OTHERS'][pdb.df['OTHERS']['record_name'] == 'CONECT']\n",
        "    #Write the connections of atoms in CONECT table\n",
        "    #\"entry\" column contains the atoms which connect to each other   \n",
        "    connections =  conect_data['entry'].str.split()\n",
        "    conn_atoms = list()\n",
        "    for atoms in connections:\n",
        "        if any(int(atom_id) < 3056 for atom_id in atoms):\n",
        "            #print('connect')\n",
        "            conn_atoms.append(atoms)\n",
        "        else:\n",
        "            continue\n",
        "    return conn_atoms\n",
        "\n",
        "def find_atom_idx(conn_atoms):\n",
        "    atom_ids = list()\n",
        "    for atom in conn_atoms:\n",
        "       atom = list(map(int, atom))\n",
        "       for idx in atom:\n",
        "          if idx > 3056:\n",
        "              atom_ids.append(idx)\n",
        "    atom_ids = set(atom_ids)\n",
        "    return atom_ids "
      ],
      "execution_count": 0,
      "outputs": []
    },
    {
      "cell_type": "code",
      "metadata": {
        "id": "7J8D9AI7U0VD",
        "colab_type": "code",
        "colab": {}
      },
      "source": [
        "def find_conn_atoms_in_conect_table():\n",
        "    \"\"\"\n",
        "    Find ids of hetatoms that connects to primary structure\n",
        "    in CONECT section of PDB file \n",
        "\n",
        "    Return: list(hetatom ids)\n",
        "    \"\"\"\n",
        "    #pdb.df['ATOM'].iloc[-1]['atom_number']\n",
        "    len_atoms = len(pdb.df['ATOM'])\n",
        "    #CONECT table\n",
        "    conect_df = pdb.df['OTHERS'][pdb.df['OTHERS']['record_name'] == 'CONECT']\n",
        "    #Write the connections of atoms in CONECT table\n",
        "    #\"entry\" column contains the atoms which connect to each other   \n",
        "    connections =  conect_df['entry'].str.split()\n",
        "    conn_atoms = list()\n",
        "    atom_ids = list()\n",
        "\n",
        "    for atoms in connections:\n",
        "        print(atoms)\n",
        "        if any(int(atom_id) < len_atoms for atom_id in atoms):\n",
        "            conn_atoms.append(atoms)\n",
        "        else:\n",
        "            continue\n",
        "    \n",
        "    for atom in conn_atoms:\n",
        "      atom = list(map(int, atom))\n",
        "      for idx in atom:\n",
        "          if idx > len_atoms:\n",
        "              atom_ids.append(idx)\n",
        "    atom_ids = set(atom_ids)\n",
        "    return list(atom_ids)\n",
        "    "
      ],
      "execution_count": 0,
      "outputs": []
    },
    {
      "cell_type": "code",
      "metadata": {
        "id": "iyvQvX86WX7t",
        "colab_type": "code",
        "colab": {}
      },
      "source": [
        "# atom_id = find_conn_atoms_in_conect_table()\n",
        "def cross_link_atoms(atom_ids):\n",
        "    hetatoms = pdb.df['HETATM']\n",
        "    hetatoms = hetatoms[~hetatoms['atom_number'].isin(atom_ids)]\n",
        "    \n",
        "    columns = ['element_symbol', 'atom_name', 'residue_name', 'x_coord', 'y_coord', 'z_coord']\n",
        "    hetatoms = hetatoms[columns]\n",
        "    return hetatoms"
      ],
      "execution_count": 0,
      "outputs": []
    }
  ]
}
